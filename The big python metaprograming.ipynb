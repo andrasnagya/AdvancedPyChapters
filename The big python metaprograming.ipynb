{
 "cells": [
  {
   "cell_type": "code",
   "execution_count": 1,
   "id": "b2aa6c36",
   "metadata": {
    "ExecuteTime": {
     "end_time": "2023-04-12T16:21:21.768330Z",
     "start_time": "2023-04-12T16:21:21.765796Z"
    }
   },
   "outputs": [],
   "source": [
    "from typing import Any"
   ]
  },
  {
   "cell_type": "markdown",
   "id": "53b0f75d",
   "metadata": {
    "ExecuteTime": {
     "end_time": "2023-03-29T10:14:42.006352Z",
     "start_time": "2023-03-29T10:14:42.000748Z"
    }
   },
   "source": [
    "# The big python metaprograming"
   ]
  },
  {
   "cell_type": "markdown",
   "id": "ded5ed28",
   "metadata": {},
   "source": [
    "## Building blocks of code"
   ]
  },
  {
   "cell_type": "markdown",
   "id": "7bb94405",
   "metadata": {},
   "source": [
    "- statements\n",
    "- functions\n",
    "- classes"
   ]
  },
  {
   "cell_type": "markdown",
   "id": "452e1129",
   "metadata": {},
   "source": [
    "### statements"
   ]
  },
  {
   "cell_type": "markdown",
   "id": "cf1f7e36",
   "metadata": {},
   "source": [
    "- Perform the actual work\n",
    "- Always execute in two scope\n",
    "    - globals - Module dictionary\n",
    "    - locals - Enclosing finctuons\n",
    "- exec(statements [, globals [, locals]]) # Will see later?"
   ]
  },
  {
   "cell_type": "markdown",
   "id": "fac25eb4",
   "metadata": {},
   "source": [
    "### functions"
   ]
  },
  {
   "cell_type": "markdown",
   "id": "5e6f1eaf",
   "metadata": {},
   "source": [
    "- The fundamental unit of code\n",
    "- The different calling convetnions\n",
    "- Closure"
   ]
  },
  {
   "cell_type": "markdown",
   "id": "05cf4c4e",
   "metadata": {},
   "source": [
    "#### The fundamental unit of code\n",
    "    - Modul level functions\n",
    "    - Methods of classes"
   ]
  },
  {
   "cell_type": "markdown",
   "id": "c3e95ac5",
   "metadata": {
    "ExecuteTime": {
     "end_time": "2023-03-29T10:40:35.361462Z",
     "start_time": "2023-03-29T10:40:35.352377Z"
    }
   },
   "source": [
    "#### The different calling convetnions\n",
    "    - Positional arguments\n",
    "    - Keyword arguments\n",
    "        - Default arguments\n",
    "            - These are set at definition time\n",
    "            - Generaly it is a bad ide to use mutable values\n",
    "                - Dont use lists or dictionaries as defaults\n",
    "    - *args and **kwargs\n",
    "        - collecting positional and keyword arguments\n",
    "        - you can pass touples and dictionaries in a similar fashion\n",
    "    - Keyword-Only Args\n",
    "        - def recv(maxsize, *, block = True):\n",
    "        - after the star you can only put keyword args\n",
    "        - with this you can add keyword args to a function wich takes any number of positional        "
   ]
  },
  {
   "cell_type": "markdown",
   "id": "a2c7da06",
   "metadata": {},
   "source": [
    "#### Closure\n",
    "    - You can make and return functions\n",
    "    - Local variables are captured\n"
   ]
  },
  {
   "cell_type": "code",
   "execution_count": 2,
   "id": "27a0cb6c",
   "metadata": {
    "ExecuteTime": {
     "end_time": "2023-04-12T16:21:21.773537Z",
     "start_time": "2023-04-12T16:21:21.771134Z"
    }
   },
   "outputs": [],
   "source": [
    "def make_adder(x, y):\n",
    "\n",
    "    def add():\n",
    "        return x + y\n",
    "\n",
    "    return add"
   ]
  },
  {
   "cell_type": "code",
   "execution_count": 3,
   "id": "b4849015",
   "metadata": {
    "ExecuteTime": {
     "end_time": "2023-04-12T16:21:21.778828Z",
     "start_time": "2023-04-12T16:21:21.776117Z"
    }
   },
   "outputs": [
    {
     "name": "stdout",
     "output_type": "stream",
     "text": [
      "5\n",
      "30\n"
     ]
    }
   ],
   "source": [
    "a = make_adder(2, 3)\n",
    "b = make_adder(10, 20)\n",
    "print(a())\n",
    "print(b())"
   ]
  },
  {
   "cell_type": "markdown",
   "id": "6944d97f",
   "metadata": {
    "ExecuteTime": {
     "end_time": "2023-03-29T11:00:47.603148Z",
     "start_time": "2023-03-29T11:00:47.596410Z"
    }
   },
   "source": [
    "### Classes"
   ]
  },
  {
   "cell_type": "code",
   "execution_count": 4,
   "id": "4ee67606",
   "metadata": {
    "ExecuteTime": {
     "end_time": "2023-04-12T16:21:21.783428Z",
     "start_time": "2023-04-12T16:21:21.780878Z"
    },
    "code_folding": []
   },
   "outputs": [],
   "source": [
    "class Spam:\n",
    "    a = 1\n",
    "\n",
    "    def __init__(self, b):\n",
    "        self.b = b\n",
    "\n",
    "    def imethod(self):\n",
    "        pass\n",
    "\n",
    "    @classmethod\n",
    "    def cmethod(cls):\n",
    "        pass\n",
    "\n",
    "    @staticmethod\n",
    "    def smethod():\n",
    "        pass"
   ]
  },
  {
   "cell_type": "markdown",
   "id": "c93ae018",
   "metadata": {},
   "source": [
    "#### Short summary"
   ]
  },
  {
   "cell_type": "markdown",
   "id": "7bfdecb0",
   "metadata": {
    "ExecuteTime": {
     "end_time": "2023-03-29T11:00:47.603148Z",
     "start_time": "2023-03-29T11:00:47.596410Z"
    }
   },
   "source": [
    "- Variables\n",
    "    - Class variable\n",
    "    - Instance variable\n",
    "- Methods\n",
    "    - Class method\n",
    "    - Static method\n",
    "    - Instance method\n",
    "    - Special methods\n",
    "- Inheritance\n",
    "- Dictionaries?\n"
   ]
  },
  {
   "cell_type": "markdown",
   "id": "2a07a96b",
   "metadata": {
    "ExecuteTime": {
     "end_time": "2023-03-29T11:00:47.603148Z",
     "start_time": "2023-03-29T11:00:47.596410Z"
    }
   },
   "source": [
    "#### Variables"
   ]
  },
  {
   "cell_type": "code",
   "execution_count": 5,
   "id": "f1462ac2",
   "metadata": {
    "ExecuteTime": {
     "end_time": "2023-04-12T16:21:21.787980Z",
     "start_time": "2023-04-12T16:21:21.785512Z"
    }
   },
   "outputs": [
    {
     "name": "stdout",
     "output_type": "stream",
     "text": [
      "1\n"
     ]
    }
   ],
   "source": [
    "print(Spam.a)  # Class variable"
   ]
  },
  {
   "cell_type": "code",
   "execution_count": 6,
   "id": "933ab773",
   "metadata": {
    "ExecuteTime": {
     "end_time": "2023-04-12T16:21:21.792391Z",
     "start_time": "2023-04-12T16:21:21.789891Z"
    }
   },
   "outputs": [
    {
     "name": "stdout",
     "output_type": "stream",
     "text": [
      "2\n"
     ]
    }
   ],
   "source": [
    "s = Spam(2)\n",
    "print(s.b)  # Instance variable"
   ]
  },
  {
   "cell_type": "markdown",
   "id": "4d625abe",
   "metadata": {
    "ExecuteTime": {
     "end_time": "2023-03-29T11:00:47.603148Z",
     "start_time": "2023-03-29T11:00:47.596410Z"
    }
   },
   "source": [
    "#### Methods"
   ]
  },
  {
   "cell_type": "code",
   "execution_count": 7,
   "id": "7090e8e3",
   "metadata": {
    "ExecuteTime": {
     "end_time": "2023-04-12T16:21:21.796374Z",
     "start_time": "2023-04-12T16:21:21.794449Z"
    }
   },
   "outputs": [],
   "source": [
    "Spam.cmethod()  # Class method, execute it on the class"
   ]
  },
  {
   "cell_type": "code",
   "execution_count": 8,
   "id": "ec7fb9f0",
   "metadata": {
    "ExecuteTime": {
     "end_time": "2023-04-12T16:21:21.801523Z",
     "start_time": "2023-04-12T16:21:21.799524Z"
    }
   },
   "outputs": [],
   "source": [
    "Spam.smethod()  # Static method, just a function in the class"
   ]
  },
  {
   "cell_type": "code",
   "execution_count": 9,
   "id": "30ee5398",
   "metadata": {
    "ExecuteTime": {
     "end_time": "2023-04-12T16:21:21.805690Z",
     "start_time": "2023-04-12T16:21:21.803508Z"
    }
   },
   "outputs": [],
   "source": [
    "s.imethod()  # Instance method only, execute it on the instance!"
   ]
  },
  {
   "cell_type": "code",
   "execution_count": 10,
   "id": "81f04d53",
   "metadata": {
    "ExecuteTime": {
     "end_time": "2023-04-12T16:21:21.810901Z",
     "start_time": "2023-04-12T16:21:21.808726Z"
    }
   },
   "outputs": [],
   "source": [
    "class Array:\n",
    "\n",
    "    def __getitem__(self, index):\n",
    "        pass"
   ]
  },
  {
   "cell_type": "markdown",
   "id": "7e69ddde",
   "metadata": {},
   "source": [
    "#### Inheritance"
   ]
  },
  {
   "cell_type": "code",
   "execution_count": 11,
   "id": "4de4ece8",
   "metadata": {
    "ExecuteTime": {
     "end_time": "2023-04-12T16:21:21.816808Z",
     "start_time": "2023-04-12T16:21:21.814435Z"
    }
   },
   "outputs": [],
   "source": [
    "# Define a base calss\n",
    "class Base:\n",
    "\n",
    "    def spam(self):\n",
    "        pass\n",
    "\n",
    "\n",
    "# Inherite from that and make some changes\n",
    "class Foo(Base):\n",
    "\n",
    "    def spam(self):\n",
    "        # Call method from base class using super\n",
    "        r = super().spam()"
   ]
  },
  {
   "cell_type": "markdown",
   "id": "bcc64d9d",
   "metadata": {},
   "source": [
    "#### Dictionaries"
   ]
  },
  {
   "cell_type": "code",
   "execution_count": 12,
   "id": "17562327",
   "metadata": {
    "ExecuteTime": {
     "end_time": "2023-04-12T16:21:21.821249Z",
     "start_time": "2023-04-12T16:21:21.819046Z"
    }
   },
   "outputs": [],
   "source": [
    "class Spam:\n",
    "\n",
    "    def __init__(self, x, y):\n",
    "        self.x = x\n",
    "        self.y = y\n",
    "\n",
    "    def foo(self):\n",
    "        pass"
   ]
  },
  {
   "cell_type": "code",
   "execution_count": 13,
   "id": "22de56aa",
   "metadata": {
    "ExecuteTime": {
     "end_time": "2023-04-12T16:21:21.826148Z",
     "start_time": "2023-04-12T16:21:21.823783Z"
    }
   },
   "outputs": [],
   "source": [
    "# An instance is basically a dictionary\n",
    "s = Spam(2, 3)"
   ]
  },
  {
   "cell_type": "code",
   "execution_count": 14,
   "id": "15e9eadd",
   "metadata": {
    "ExecuteTime": {
     "end_time": "2023-04-12T16:21:21.830508Z",
     "start_time": "2023-04-12T16:21:21.828177Z"
    }
   },
   "outputs": [
    {
     "name": "stdout",
     "output_type": "stream",
     "text": [
      "{'x': 2, 'y': 3}\n"
     ]
    }
   ],
   "source": [
    "print(s.__dict__)"
   ]
  },
  {
   "cell_type": "code",
   "execution_count": 15,
   "id": "7030a7f6",
   "metadata": {
    "ExecuteTime": {
     "end_time": "2023-04-12T16:21:21.835035Z",
     "start_time": "2023-04-12T16:21:21.832407Z"
    }
   },
   "outputs": [
    {
     "name": "stdout",
     "output_type": "stream",
     "text": [
      "<function Spam.foo at 0x7fb8c4be5c20>\n"
     ]
    }
   ],
   "source": [
    "print(Spam.__dict__['foo'])"
   ]
  },
  {
   "cell_type": "markdown",
   "id": "00b8433e",
   "metadata": {},
   "source": [
    "## Metaprograming Basics\n"
   ]
  },
  {
   "cell_type": "markdown",
   "id": "b9b53e17",
   "metadata": {},
   "source": [
    "### The problem of debuging"
   ]
  },
  {
   "cell_type": "markdown",
   "id": "2d43ee4a",
   "metadata": {},
   "source": [
    "#### Short summary\n"
   ]
  },
  {
   "cell_type": "markdown",
   "id": "e47e0979",
   "metadata": {
    "ExecuteTime": {
     "end_time": "2023-03-29T11:32:03.780537Z",
     "start_time": "2023-03-29T11:32:03.774299Z"
    }
   },
   "source": [
    "- the function with the print statement\n",
    "- the problem with that it gets repetitive\n",
    "- to solve this we introduce decorators\n",
    "- so we have introduded new problems\n",
    "- to solve this we wrap\n",
    "- decorator with arguments\n",
    "- can we debug all methods in a class?\n",
    "- how deep can we debug methods in a class?\n",
    "- debug all classes???\n",
    "- what is a class?\n",
    "- why to use a metaclass?\n",
    "- big picture"
   ]
  },
  {
   "cell_type": "markdown",
   "id": "21d7ccbb",
   "metadata": {},
   "source": [
    "#### Introduce decorators"
   ]
  },
  {
   "cell_type": "code",
   "execution_count": 16,
   "id": "ef80970b",
   "metadata": {
    "ExecuteTime": {
     "end_time": "2023-04-12T16:21:21.843282Z",
     "start_time": "2023-04-12T16:21:21.840959Z"
    }
   },
   "outputs": [],
   "source": [
    "def debug(func):\n",
    "\n",
    "    def wrapper(*args, **kwargs):\n",
    "        print(func.__name__)\n",
    "        return func\n",
    "\n",
    "    return wrapper"
   ]
  },
  {
   "cell_type": "code",
   "execution_count": 17,
   "id": "e02af374",
   "metadata": {
    "ExecuteTime": {
     "end_time": "2023-04-12T16:21:21.847974Z",
     "start_time": "2023-04-12T16:21:21.845191Z"
    }
   },
   "outputs": [],
   "source": [
    "def add(x, y):\n",
    "    return x + y\n",
    "\n",
    "\n",
    "def sub(x, y):\n",
    "    return x - y\n",
    "\n",
    "\n",
    "def mul(x, y):\n",
    "    return x * y\n",
    "\n",
    "\n",
    "@debug\n",
    "def div(x, y):\n",
    "    return x / y"
   ]
  },
  {
   "cell_type": "code",
   "execution_count": 18,
   "id": "05d2642c",
   "metadata": {
    "ExecuteTime": {
     "end_time": "2023-04-12T16:21:21.852770Z",
     "start_time": "2023-04-12T16:21:21.850261Z"
    }
   },
   "outputs": [
    {
     "name": "stdout",
     "output_type": "stream",
     "text": [
      "6\n"
     ]
    }
   ],
   "source": [
    "print(mul(2, 3))"
   ]
  },
  {
   "cell_type": "code",
   "execution_count": 19,
   "id": "0646d949",
   "metadata": {
    "ExecuteTime": {
     "end_time": "2023-04-12T16:21:21.858020Z",
     "start_time": "2023-04-12T16:21:21.855675Z"
    }
   },
   "outputs": [
    {
     "name": "stdout",
     "output_type": "stream",
     "text": [
      "div\n",
      "<function div at 0x7fb8c5498b90>\n"
     ]
    }
   ],
   "source": [
    "print(div(2, 3))"
   ]
  },
  {
   "cell_type": "markdown",
   "id": "5b354342",
   "metadata": {},
   "source": [
    "#### We have introduced new problems"
   ]
  },
  {
   "cell_type": "code",
   "execution_count": 20,
   "id": "094fbe18",
   "metadata": {
    "ExecuteTime": {
     "end_time": "2023-04-12T16:21:21.863453Z",
     "start_time": "2023-04-12T16:21:21.861253Z"
    }
   },
   "outputs": [
    {
     "name": "stdout",
     "output_type": "stream",
     "text": [
      "<function debug.<locals>.wrapper at 0x7fb8c5498560>\n"
     ]
    }
   ],
   "source": [
    "# We lose information on name\n",
    "print(div)"
   ]
  },
  {
   "cell_type": "code",
   "execution_count": 21,
   "id": "0feafaf9",
   "metadata": {
    "ExecuteTime": {
     "end_time": "2023-04-12T16:21:21.868259Z",
     "start_time": "2023-04-12T16:21:21.865309Z"
    }
   },
   "outputs": [
    {
     "name": "stdout",
     "output_type": "stream",
     "text": [
      "Help on function wrapper in module __main__:\n",
      "\n",
      "wrapper(*args, **kwargs)\n",
      "\n",
      "None\n"
     ]
    }
   ],
   "source": [
    "# We lose information on helps\n",
    "print(help(div))"
   ]
  },
  {
   "cell_type": "markdown",
   "id": "18e5ab5f",
   "metadata": {},
   "source": [
    "#### To solve this we wrap"
   ]
  },
  {
   "cell_type": "code",
   "execution_count": 22,
   "id": "09ca94e3",
   "metadata": {
    "ExecuteTime": {
     "end_time": "2023-04-12T16:21:21.873580Z",
     "start_time": "2023-04-12T16:21:21.870486Z"
    }
   },
   "outputs": [],
   "source": [
    "from functools import wraps\n",
    "import logging\n",
    "import os\n",
    "\n",
    "\n",
    "def debug(func):\n",
    "    if 'DEBUG' not in os.environ:\n",
    "        return func  # you can optionally scip applying this decorator withe env variables\n",
    "    log = logging.getLogger(func.__module__)  # That is a logging variation\n",
    "    msg = func.__qualname__  #the fully qualified function name (What does this mean?)\n",
    "    # It gets impartant with classes?\n",
    "    # Claass name gets printed out with the method\n",
    "    #@wraps(func) #Explicit way\n",
    "    @wraps  # Copy metadata\n",
    "    def wrapper(*args, **kwargs):\n",
    "        print(msg)\n",
    "        return func\n",
    "\n",
    "    return wrapper\n",
    "\n",
    "\n",
    "# Key idea to change the decarator independently form the code using it"
   ]
  },
  {
   "cell_type": "code",
   "execution_count": 23,
   "id": "1241fdb4",
   "metadata": {
    "ExecuteTime": {
     "end_time": "2023-04-12T16:21:21.878477Z",
     "start_time": "2023-04-12T16:21:21.876346Z"
    }
   },
   "outputs": [],
   "source": [
    "sub = debug(sub)\n",
    "\n",
    "\n",
    "# is equal to\n",
    "@debug\n",
    "def sub(x, y):\n",
    "    return x - y"
   ]
  },
  {
   "cell_type": "markdown",
   "id": "0e6b3a72",
   "metadata": {},
   "source": [
    "#### Decorator with arguments"
   ]
  },
  {
   "cell_type": "code",
   "execution_count": 24,
   "id": "f517b659",
   "metadata": {
    "ExecuteTime": {
     "end_time": "2023-04-12T16:21:21.884838Z",
     "start_time": "2023-04-12T16:21:21.880936Z"
    }
   },
   "outputs": [],
   "source": [
    "from functools import wraps, partial\n",
    "import logging\n",
    "import os\n",
    "\n",
    "os.environ[\"DEBUG\"] = '1'\n",
    "\n",
    "\n",
    "def debug(func=None, *, prefix=''):\n",
    "    # This is how you make prefix variable available\n",
    "    if func is None:  # It means that this was not pathed\n",
    "        # How do we use partial?\n",
    "        return partial(debug, prefix=prefix)\n",
    "    #if 'DEBUG' not in os.environ:\n",
    "    #    return func # you can optionally scip applying this decorator withe env variables\n",
    "    log = logging.getLogger(func.__module__)  # That is a logging variation\n",
    "    msg = prefix + func.__qualname__  #the fully qualified function name (What does this mean?)\n",
    "    # It gets impartant with classes?\n",
    "    # Claass name gets printed out with the method\n",
    "    #@wraps might not work\n",
    "    @wraps(func)  #Explicit way\n",
    "    def wrapper(*args, **kwargs):\n",
    "        print(msg)\n",
    "        return func(*args, **kwargs)\n",
    "\n",
    "    return wrapper\n",
    "\n",
    "\n",
    "# Key idea to change the decarator independently form the code using it"
   ]
  },
  {
   "cell_type": "code",
   "execution_count": 25,
   "id": "82b8e19e",
   "metadata": {
    "ExecuteTime": {
     "end_time": "2023-04-12T16:21:21.890506Z",
     "start_time": "2023-04-12T16:21:21.888066Z"
    }
   },
   "outputs": [],
   "source": [
    "@debug(prefix=\"*****\")\n",
    "def add(x, y):\n",
    "    return x + y"
   ]
  },
  {
   "cell_type": "code",
   "execution_count": 26,
   "id": "05415188",
   "metadata": {
    "ExecuteTime": {
     "end_time": "2023-04-12T16:21:21.894788Z",
     "start_time": "2023-04-12T16:21:21.892257Z"
    }
   },
   "outputs": [
    {
     "name": "stdout",
     "output_type": "stream",
     "text": [
      "*****add\n",
      "6\n"
     ]
    }
   ],
   "source": [
    "print(add(2, 4))"
   ]
  },
  {
   "cell_type": "markdown",
   "id": "a18beb8e",
   "metadata": {
    "ExecuteTime": {
     "end_time": "2023-03-29T13:09:13.687272Z",
     "start_time": "2023-03-29T13:09:13.672496Z"
    }
   },
   "source": [
    "#### Can we debug all methods in a class?"
   ]
  },
  {
   "cell_type": "code",
   "execution_count": 27,
   "id": "528922e7",
   "metadata": {
    "ExecuteTime": {
     "end_time": "2023-04-12T16:21:21.899742Z",
     "start_time": "2023-04-12T16:21:21.896663Z"
    }
   },
   "outputs": [],
   "source": [
    "#Is this really what we looking for?\n",
    "# This is repetitiv?\n",
    "# What about class decorators?\n",
    "class Spam:\n",
    "    a = 1\n",
    "\n",
    "    @debug\n",
    "    def __init__(self, b):\n",
    "        self.b = b\n",
    "\n",
    "    @debug\n",
    "    def imethod(self):\n",
    "        pass\n",
    "\n",
    "    @classmethod\n",
    "    @debug\n",
    "    def cmethod(cls):\n",
    "        pass\n",
    "\n",
    "    @staticmethod\n",
    "    @debug\n",
    "    def smethod():\n",
    "        pass"
   ]
  },
  {
   "cell_type": "code",
   "execution_count": 28,
   "id": "c6a39f22",
   "metadata": {
    "ExecuteTime": {
     "end_time": "2023-04-12T16:21:21.904293Z",
     "start_time": "2023-04-12T16:21:21.901516Z"
    }
   },
   "outputs": [],
   "source": [
    "def debugmethods(cls):\n",
    "    #cls is class\n",
    "    # Take a look, how we use that classes are just dictionaries with extras\n",
    "    for name, val in vars(cls).items():\n",
    "        if callable(val):\n",
    "            setattr(cls, name, debug(val))\n",
    "    return cls"
   ]
  },
  {
   "cell_type": "code",
   "execution_count": 29,
   "id": "dcff2e5d",
   "metadata": {
    "ExecuteTime": {
     "end_time": "2023-04-12T16:21:21.908926Z",
     "start_time": "2023-04-12T16:21:21.906087Z"
    }
   },
   "outputs": [],
   "source": [
    "# What about class decorators?\n",
    "@debugmethods\n",
    "class Spam:\n",
    "    a = 1\n",
    "\n",
    "    def __init__(self, b=3):\n",
    "        self.b = b\n",
    "\n",
    "    def imethod(self):\n",
    "        pass\n",
    "\n",
    "    @classmethod  # Not wrapped\n",
    "    def cmethod(cls):\n",
    "        pas\n",
    "\n",
    "    @staticmethod  # Not wrapped\n",
    "    def smethod():\n",
    "        pass"
   ]
  },
  {
   "cell_type": "code",
   "execution_count": 30,
   "id": "7beddf5f",
   "metadata": {
    "ExecuteTime": {
     "end_time": "2023-04-12T16:21:21.913386Z",
     "start_time": "2023-04-12T16:21:21.910964Z"
    }
   },
   "outputs": [
    {
     "name": "stdout",
     "output_type": "stream",
     "text": [
      "Spam.__init__\n"
     ]
    }
   ],
   "source": [
    "s = Spam()"
   ]
  },
  {
   "cell_type": "markdown",
   "id": "357010b0",
   "metadata": {},
   "source": [
    "#### How deep can we debug methods in a class?"
   ]
  },
  {
   "cell_type": "code",
   "execution_count": 31,
   "id": "54df1494",
   "metadata": {
    "ExecuteTime": {
     "end_time": "2023-04-12T16:21:21.918089Z",
     "start_time": "2023-04-12T16:21:21.915256Z"
    }
   },
   "outputs": [],
   "source": [
    "def debugatt(cls):\n",
    "    # __getattribute__ lookup attrs from a class\n",
    "    orig_getattribute = cls.__getattribute__\n",
    "\n",
    "    # here we redefine the this functionality and\n",
    "    def __getattribute__(self, name):\n",
    "\n",
    "        # add somethong to it\n",
    "        print(\"Get:\", name)\n",
    "        return orig_getattribute(self, name)\n",
    "\n",
    "    # drop the new version to the class\n",
    "    cls.__getattribute__ = __getattribute__\n",
    "\n",
    "    return cls"
   ]
  },
  {
   "cell_type": "code",
   "execution_count": 32,
   "id": "3973cd2f",
   "metadata": {
    "ExecuteTime": {
     "end_time": "2023-04-12T16:21:21.922266Z",
     "start_time": "2023-04-12T16:21:21.919973Z"
    }
   },
   "outputs": [],
   "source": [
    "@debugatt\n",
    "class Point:\n",
    "\n",
    "    def __init__(self, x, y):\n",
    "        self.x = x\n",
    "        self.y = y"
   ]
  },
  {
   "cell_type": "code",
   "execution_count": 33,
   "id": "f97f3bea",
   "metadata": {
    "ExecuteTime": {
     "end_time": "2023-04-12T16:21:21.927572Z",
     "start_time": "2023-04-12T16:21:21.925420Z"
    }
   },
   "outputs": [],
   "source": [
    "p = Point(2, 3)"
   ]
  },
  {
   "cell_type": "code",
   "execution_count": 34,
   "id": "ad466928",
   "metadata": {
    "ExecuteTime": {
     "end_time": "2023-04-12T16:21:21.932222Z",
     "start_time": "2023-04-12T16:21:21.929541Z"
    }
   },
   "outputs": [
    {
     "name": "stdout",
     "output_type": "stream",
     "text": [
      "Get: x\n",
      "2\n"
     ]
    }
   ],
   "source": [
    "print(p.x)"
   ]
  },
  {
   "cell_type": "markdown",
   "id": "2a01d6f5",
   "metadata": {
    "ExecuteTime": {
     "end_time": "2023-03-29T14:14:00.133042Z",
     "start_time": "2023-03-29T14:13:55.209324Z"
    }
   },
   "source": [
    "#### Debug all classes???"
   ]
  },
  {
   "cell_type": "markdown",
   "id": "fac6986e",
   "metadata": {},
   "source": [
    "The solution for this is Metaclass"
   ]
  },
  {
   "cell_type": "code",
   "execution_count": 35,
   "id": "294beddf",
   "metadata": {
    "ExecuteTime": {
     "end_time": "2023-04-12T16:21:21.939017Z",
     "start_time": "2023-04-12T16:21:21.935579Z"
    }
   },
   "outputs": [],
   "source": [
    "class debugmeta(type):\n",
    "\n",
    "    def __new__(cls, clsname, bases, clsdict):\n",
    "        # first we create a class normaly\n",
    "        clsobj = super().__new__(cls, clsname, bases, clsdict)\n",
    "        # later we apply a class decorator to it\n",
    "        # be careful, classmethods and static methods are not wrapped !\n",
    "        clsobj = debugmethods(clsobj)\n",
    "        return clsobj"
   ]
  },
  {
   "cell_type": "code",
   "execution_count": 36,
   "id": "3613f224",
   "metadata": {
    "ExecuteTime": {
     "end_time": "2023-04-12T16:21:21.944119Z",
     "start_time": "2023-04-12T16:21:21.941871Z"
    }
   },
   "outputs": [],
   "source": [
    "class Base(metaclass=debugmeta):\n",
    "    pass"
   ]
  },
  {
   "cell_type": "code",
   "execution_count": 37,
   "id": "42ae0ece",
   "metadata": {
    "ExecuteTime": {
     "end_time": "2023-04-12T16:21:21.948111Z",
     "start_time": "2023-04-12T16:21:21.946152Z"
    }
   },
   "outputs": [],
   "source": [
    "class Spam(Base):\n",
    "    pass"
   ]
  },
  {
   "cell_type": "code",
   "execution_count": 38,
   "id": "937936d0",
   "metadata": {
    "ExecuteTime": {
     "end_time": "2023-04-12T16:21:21.952142Z",
     "start_time": "2023-04-12T16:21:21.949749Z"
    }
   },
   "outputs": [],
   "source": [
    "a = Base()"
   ]
  },
  {
   "cell_type": "code",
   "execution_count": 39,
   "id": "3f452bff",
   "metadata": {
    "ExecuteTime": {
     "end_time": "2023-04-12T16:21:21.957217Z",
     "start_time": "2023-04-12T16:21:21.955216Z"
    }
   },
   "outputs": [],
   "source": [
    "b = Spam()"
   ]
  },
  {
   "cell_type": "markdown",
   "id": "481f960a",
   "metadata": {},
   "source": [
    "#### What is a class? Deconstructing class:"
   ]
  },
  {
   "cell_type": "markdown",
   "id": "33065ba8",
   "metadata": {
    "ExecuteTime": {
     "end_time": "2023-03-29T14:31:09.699943Z",
     "start_time": "2023-03-29T14:31:09.695911Z"
    }
   },
   "source": [
    "- in python every value has a type\n",
    "- every type is defined by a class\n",
    "- types of classes are all instances of types\n",
    "- classes are instances of tpyes \n",
    "- so what is type?\n",
    "    - tpye must be a class, cause classes makes instances!\n",
    "    - and it makes instances of type"
   ]
  },
  {
   "cell_type": "code",
   "execution_count": 40,
   "id": "b6e06005",
   "metadata": {
    "ExecuteTime": {
     "end_time": "2023-04-12T16:21:21.963371Z",
     "start_time": "2023-04-12T16:21:21.960954Z"
    }
   },
   "outputs": [],
   "source": [
    "class Base:\n",
    "    pass\n",
    "\n",
    "\n",
    "class Spam(Base):\n",
    "\n",
    "    def __init__(self, name):\n",
    "        self.name = name\n",
    "\n",
    "    def bar(self):\n",
    "        print(\"I am Spam\")"
   ]
  },
  {
   "cell_type": "markdown",
   "id": "79e9d364",
   "metadata": {},
   "source": [
    "- What do we have?\n",
    "    - Name\n",
    "    - Base classes\n",
    "    - Functions"
   ]
  },
  {
   "cell_type": "markdown",
   "id": "7f5f77be",
   "metadata": {
    "ExecuteTime": {
     "end_time": "2023-03-29T14:37:31.615624Z",
     "start_time": "2023-03-29T14:37:31.608190Z"
    }
   },
   "source": [
    "- What happens during class definition?\n",
    "    - The body of the fn gets isolated"
   ]
  },
  {
   "cell_type": "markdown",
   "id": "db4a1b83",
   "metadata": {},
   "source": [
    "##### Step 1"
   ]
  },
  {
   "cell_type": "markdown",
   "id": "ed9e1cf8",
   "metadata": {},
   "source": [
    "Body of the class gets isolated"
   ]
  },
  {
   "cell_type": "code",
   "execution_count": 41,
   "id": "273228f7",
   "metadata": {
    "ExecuteTime": {
     "end_time": "2023-04-12T16:21:21.970742Z",
     "start_time": "2023-04-12T16:21:21.968275Z"
    }
   },
   "outputs": [],
   "source": [
    "body = '''def __init__(self, name):\n",
    "    self.name = name\n",
    "def bar(self):\n",
    "    print(\"I am Spam\")\n",
    "'''"
   ]
  },
  {
   "cell_type": "markdown",
   "id": "78c87ad5",
   "metadata": {},
   "source": [
    "- The interpreter will make a dictionary that will serve as the class name space"
   ]
  },
  {
   "cell_type": "markdown",
   "id": "346227b7",
   "metadata": {},
   "source": [
    "##### Step 2"
   ]
  },
  {
   "cell_type": "markdown",
   "id": "6a113600",
   "metadata": {},
   "source": [
    "The interpreter will make a dictionary, class dictionary is created, that serves as the classe's namesapce. This is going to be \"just a dictionary\""
   ]
  },
  {
   "cell_type": "code",
   "execution_count": 42,
   "id": "12ee4c39",
   "metadata": {
    "ExecuteTime": {
     "end_time": "2023-04-12T16:21:21.977153Z",
     "start_time": "2023-04-12T16:21:21.974926Z"
    }
   },
   "outputs": [],
   "source": [
    "clsdict = type.__prepare__('Spam', (Base, ))"
   ]
  },
  {
   "cell_type": "code",
   "execution_count": 43,
   "id": "e526549e",
   "metadata": {
    "ExecuteTime": {
     "end_time": "2023-04-12T16:21:21.983541Z",
     "start_time": "2023-04-12T16:21:21.980749Z"
    }
   },
   "outputs": [
    {
     "name": "stdout",
     "output_type": "stream",
     "text": [
      "<class 'dict'>\n"
     ]
    }
   ],
   "source": [
    "# As we can see its \"just\" dict\n",
    "print(type(clsdict))"
   ]
  },
  {
   "cell_type": "markdown",
   "id": "17e55d7d",
   "metadata": {},
   "source": [
    "##### Step 3"
   ]
  },
  {
   "cell_type": "markdown",
   "id": "506f3d2d",
   "metadata": {},
   "source": [
    "Body is executed in this dict"
   ]
  },
  {
   "cell_type": "code",
   "execution_count": 44,
   "id": "29ca4772",
   "metadata": {
    "ExecuteTime": {
     "end_time": "2023-04-12T16:21:21.989701Z",
     "start_time": "2023-04-12T16:21:21.987111Z"
    }
   },
   "outputs": [],
   "source": [
    "exec(body, globals(), clsdict)"
   ]
  },
  {
   "cell_type": "code",
   "execution_count": 45,
   "id": "b3ecfd59",
   "metadata": {
    "ExecuteTime": {
     "end_time": "2023-04-12T16:21:21.995546Z",
     "start_time": "2023-04-12T16:21:21.992665Z"
    }
   },
   "outputs": [
    {
     "name": "stdout",
     "output_type": "stream",
     "text": [
      "{'__init__': <function __init__ at 0x7fb8c5498710>, 'bar': <function bar at 0x7fb8c5498d40>}\n"
     ]
    }
   ],
   "source": [
    "# afterwards, clsdict is populated\n",
    "print(clsdict)"
   ]
  },
  {
   "cell_type": "markdown",
   "id": "c5a118fa",
   "metadata": {},
   "source": [
    "##### Step 4"
   ]
  },
  {
   "cell_type": "markdown",
   "id": "172ae87d",
   "metadata": {},
   "source": [
    "Class is constructed from its name, base classes and the dictionary"
   ]
  },
  {
   "cell_type": "code",
   "execution_count": 46,
   "id": "2b6d4c8d",
   "metadata": {
    "ExecuteTime": {
     "end_time": "2023-04-12T16:21:22.001091Z",
     "start_time": "2023-04-12T16:21:21.998444Z"
    }
   },
   "outputs": [],
   "source": [
    "# With this tpye() we are makeing the class\n",
    "Spam = type('Spam', (Base, ), clsdict)"
   ]
  },
  {
   "cell_type": "code",
   "execution_count": 47,
   "id": "3cf92392",
   "metadata": {
    "ExecuteTime": {
     "end_time": "2023-04-12T16:21:22.006549Z",
     "start_time": "2023-04-12T16:21:22.003907Z"
    }
   },
   "outputs": [],
   "source": [
    "s = Spam('Guido')"
   ]
  },
  {
   "cell_type": "code",
   "execution_count": 48,
   "id": "341491d0",
   "metadata": {
    "ExecuteTime": {
     "end_time": "2023-04-12T16:21:22.012112Z",
     "start_time": "2023-04-12T16:21:22.009226Z"
    }
   },
   "outputs": [
    {
     "name": "stdout",
     "output_type": "stream",
     "text": [
      "I am Spam\n"
     ]
    }
   ],
   "source": [
    "s.bar()"
   ]
  },
  {
   "cell_type": "markdown",
   "id": "ccd6f4cc",
   "metadata": {},
   "source": [
    "We can change the metaclass"
   ]
  },
  {
   "cell_type": "markdown",
   "id": "4143cce8",
   "metadata": {},
   "source": [
    "##### Abominations"
   ]
  },
  {
   "cell_type": "markdown",
   "id": "5c6fecc8",
   "metadata": {},
   "source": [
    "Probably makeing a different type of type"
   ]
  },
  {
   "cell_type": "code",
   "execution_count": 49,
   "id": "88099849",
   "metadata": {
    "ExecuteTime": {
     "end_time": "2023-04-12T16:21:22.018284Z",
     "start_time": "2023-04-12T16:21:22.015063Z"
    }
   },
   "outputs": [],
   "source": [
    "# You can change the 'type' here for something\n",
    "# TO 'ANYTHING'\n",
    "class Spam(metaclass=type):\n",
    "\n",
    "    def __init__(self, name):\n",
    "        self.name = name\n",
    "\n",
    "    def bar(self):\n",
    "        print(\"I am Spam\")"
   ]
  },
  {
   "cell_type": "code",
   "execution_count": 50,
   "id": "070e5bb1",
   "metadata": {
    "ExecuteTime": {
     "end_time": "2023-04-12T16:21:22.024688Z",
     "start_time": "2023-04-12T16:21:22.021186Z"
    }
   },
   "outputs": [],
   "source": [
    "# You tipically inherit from tpye and redefine\n",
    "class mytpye(type):\n",
    "\n",
    "    def __new__(cls, clsname, bases, clsdict):\n",
    "        # If the number of base classes is > 1\n",
    "        if len(bases) > 1:\n",
    "            raise TypeError(\"No!\")\n",
    "        return super().__new__(cls, clsname, bases, clsdict)"
   ]
  },
  {
   "cell_type": "markdown",
   "id": "a7181d49",
   "metadata": {
    "ExecuteTime": {
     "end_time": "2023-03-29T15:01:08.219476Z",
     "start_time": "2023-03-29T15:01:08.212412Z"
    }
   },
   "source": [
    "- And it works like"
   ]
  },
  {
   "cell_type": "code",
   "execution_count": 51,
   "id": "93095fc7",
   "metadata": {
    "ExecuteTime": {
     "end_time": "2023-04-12T16:21:22.030317Z",
     "start_time": "2023-04-12T16:21:22.027759Z"
    }
   },
   "outputs": [],
   "source": [
    "class Base(metaclass=mytpye):\n",
    "    pass"
   ]
  },
  {
   "cell_type": "code",
   "execution_count": 52,
   "id": "1972ed1f",
   "metadata": {
    "ExecuteTime": {
     "end_time": "2023-04-12T16:21:22.035942Z",
     "start_time": "2023-04-12T16:21:22.033149Z"
    }
   },
   "outputs": [],
   "source": [
    "class A(Base):\n",
    "    pass"
   ]
  },
  {
   "cell_type": "code",
   "execution_count": 53,
   "id": "6136e96c",
   "metadata": {
    "ExecuteTime": {
     "end_time": "2023-04-12T16:21:22.041306Z",
     "start_time": "2023-04-12T16:21:22.038536Z"
    }
   },
   "outputs": [],
   "source": [
    "class B(Base):\n",
    "    pass"
   ]
  },
  {
   "cell_type": "code",
   "execution_count": 54,
   "id": "ac9192b3",
   "metadata": {
    "ExecuteTime": {
     "end_time": "2023-04-12T16:21:22.051830Z",
     "start_time": "2023-04-12T16:21:22.044048Z"
    }
   },
   "outputs": [
    {
     "data": {
      "text/plain": [
       "'\\n---------------------------------------------------------------------------\\nTypeError                                 Traceback (most recent call last)\\n/tmp/ipykernel_25442/1927587182.py in <module>\\n----> 1 class C(A, B):\\n      2     pass\\n\\n/tmp/ipykernel_25442/2866177849.py in __new__(cls, clsname, bases, clsdict)\\n      3         # If the number of base classes is > 1\\n      4         if len(bases) > 1:\\n----> 5             raise TypeError(\"No!\")\\n      6         return super().__new__(cls, clsname, bases, clsdict)\\n\\nTypeError: No!\\n\\n'"
      ]
     },
     "execution_count": 54,
     "metadata": {},
     "output_type": "execute_result"
    }
   ],
   "source": [
    "# So if iy would print:\n",
    "\n",
    "#class C(A, B):\n",
    "#    pass\n",
    "\n",
    "# I would get\n",
    "\"\"\"\n",
    "---------------------------------------------------------------------------\n",
    "TypeError                                 Traceback (most recent call last)\n",
    "/tmp/ipykernel_25442/1927587182.py in <module>\n",
    "----> 1 class C(A, B):\n",
    "      2     pass\n",
    "\n",
    "/tmp/ipykernel_25442/2866177849.py in __new__(cls, clsname, bases, clsdict)\n",
    "      3         # If the number of base classes is > 1\n",
    "      4         if len(bases) > 1:\n",
    "----> 5             raise TypeError(\"No!\")\n",
    "      6         return super().__new__(cls, clsname, bases, clsdict)\n",
    "\n",
    "TypeError: No!\n",
    "\n",
    "\"\"\""
   ]
  },
  {
   "cell_type": "code",
   "execution_count": 55,
   "id": "7c940b71",
   "metadata": {
    "ExecuteTime": {
     "end_time": "2023-04-12T16:21:22.057324Z",
     "start_time": "2023-04-12T16:21:22.055059Z"
    }
   },
   "outputs": [],
   "source": [
    "# Do metaclasses have to inherete from type?\n",
    "    # - Likely...  \n",
    "# Very advanced question:\n",
    "# What are problems that you can solve with a metaclass can not solve with a class decorator or the other way around"
   ]
  },
  {
   "cell_type": "markdown",
   "id": "cb39c150",
   "metadata": {
    "ExecuteTime": {
     "end_time": "2023-04-10T19:52:39.961868Z",
     "start_time": "2023-04-10T19:52:39.958529Z"
    }
   },
   "source": [
    "- Metaclasses get information about class definitions at the time of definition\n",
    "    - can inspect this data\n",
    "    - can midify this data\n",
    "- They are similar to class decorators\n",
    "- Python will execute any statement you put into a class body"
   ]
  },
  {
   "cell_type": "markdown",
   "id": "0b1958da",
   "metadata": {},
   "source": [
    "#### Why to use a metaclass?"
   ]
  },
  {
   "cell_type": "markdown",
   "id": "c8eda1ef",
   "metadata": {
    "ExecuteTime": {
     "end_time": "2023-03-29T15:08:59.622784Z",
     "start_time": "2023-03-29T15:08:59.615929Z"
    }
   },
   "source": [
    "- They propagate down hierarchies"
   ]
  },
  {
   "cell_type": "code",
   "execution_count": 56,
   "id": "e3b19ae7",
   "metadata": {
    "ExecuteTime": {
     "end_time": "2023-04-12T16:21:22.064040Z",
     "start_time": "2023-04-12T16:21:22.059291Z"
    }
   },
   "outputs": [],
   "source": [
    "# Revisiting\n",
    "def debugmethods(cls):\n",
    "    #cls is class\n",
    "    for name, val in vars(cls).items():\n",
    "        if callable(val):\n",
    "            setattr(cls, name, debug(val))\n",
    "    return cls\n",
    "\n",
    "# It gets inhereted!!!!!!!!!!!\n",
    "class debugmeta(type):\n",
    "\n",
    "    def __new__(cls, clsname, bases, clsdict):\n",
    "        classobj = super().__new__(cls, clsname, bases, clsdict)\n",
    "        # It gets inhereted!\n",
    "        classobj = debugmethods(classobj)\n",
    "        return classobj"
   ]
  },
  {
   "cell_type": "code",
   "execution_count": 57,
   "id": "77469468",
   "metadata": {
    "ExecuteTime": {
     "end_time": "2023-04-12T16:21:22.069216Z",
     "start_time": "2023-04-12T16:21:22.066506Z"
    }
   },
   "outputs": [],
   "source": [
    "# So you debug EEEEVRITHING\n",
    "class Base(metaclass=debugmeta):\n",
    "    pass"
   ]
  },
  {
   "cell_type": "markdown",
   "id": "4f017043",
   "metadata": {},
   "source": [
    "#### Big Picture"
   ]
  },
  {
   "cell_type": "markdown",
   "id": "ecd43792",
   "metadata": {},
   "source": [
    "- Decorator wraps function\n",
    "- Class Decorator wraps class\n",
    "- Metaclass wraps Class hierarchies\n",
    "- Order fo things\n",
    "    - With metaclasses you can work before the class is created\n",
    "    - With class decorators you can just work AFTER they are created"
   ]
  },
  {
   "cell_type": "markdown",
   "id": "bfbcf189",
   "metadata": {},
   "source": [
    "### The problem of Structures"
   ]
  },
  {
   "cell_type": "markdown",
   "id": "fdd38c00",
   "metadata": {},
   "source": [
    "#### Introduction"
   ]
  },
  {
   "cell_type": "code",
   "execution_count": 58,
   "id": "37676bed",
   "metadata": {
    "ExecuteTime": {
     "end_time": "2023-04-12T16:21:22.077107Z",
     "start_time": "2023-04-12T16:21:22.072459Z"
    }
   },
   "outputs": [],
   "source": [
    "class Stock:\n",
    "\n",
    "    def __init__(self, name, shares, price):\n",
    "        self.name = name\n",
    "        self.shares = shares\n",
    "        self.price = price\n",
    "\n",
    "\n",
    "class Point:\n",
    "\n",
    "    def __init__(self, x, y):\n",
    "        self.x = y\n",
    "        self.y = y\n",
    "\n",
    "\n",
    "class Address:\n",
    "\n",
    "    def __init__(self, hostname, port):\n",
    "        self.hostname = hostname\n",
    "        self.port = port"
   ]
  },
  {
   "cell_type": "code",
   "execution_count": 59,
   "id": "6edc543d",
   "metadata": {
    "ExecuteTime": {
     "end_time": "2023-04-12T16:21:22.082694Z",
     "start_time": "2023-04-12T16:21:22.079504Z"
    }
   },
   "outputs": [],
   "source": [
    "class Structure:\n",
    "    _fields = []\n",
    "    def __init__(self, *args):\n",
    "        # zip(self.__class__._fields, # would also work\n",
    "        for name, val in zip(self._fields, args):\n",
    "            setattr(self, name, val)"
   ]
  },
  {
   "cell_type": "code",
   "execution_count": 60,
   "id": "146e873a",
   "metadata": {
    "ExecuteTime": {
     "end_time": "2023-04-12T16:21:22.088902Z",
     "start_time": "2023-04-12T16:21:22.085514Z"
    }
   },
   "outputs": [],
   "source": [
    "class Stock(Structure):\n",
    "    _fields = ['name', 'shares', 'price']\n",
    "\n",
    "class Point(Structure):\n",
    "     _fields = ['x', 'y']\n",
    "\n",
    "\n",
    "class Address(Structure):\n",
    "     _fields = ['hostname', 'port']"
   ]
  },
  {
   "cell_type": "code",
   "execution_count": 61,
   "id": "2344aa54",
   "metadata": {
    "ExecuteTime": {
     "end_time": "2023-04-12T16:21:22.094727Z",
     "start_time": "2023-04-12T16:21:22.092495Z"
    }
   },
   "outputs": [],
   "source": [
    "# You can access a class variable through an instance"
   ]
  },
  {
   "cell_type": "code",
   "execution_count": 62,
   "id": "ff565f5c",
   "metadata": {
    "ExecuteTime": {
     "end_time": "2023-04-12T16:21:22.099952Z",
     "start_time": "2023-04-12T16:21:22.097346Z"
    }
   },
   "outputs": [],
   "source": [
    "my_stock = Stock('gog', 1000, 17)"
   ]
  },
  {
   "cell_type": "code",
   "execution_count": 63,
   "id": "b1d86d37",
   "metadata": {
    "ExecuteTime": {
     "end_time": "2023-04-12T16:21:22.105431Z",
     "start_time": "2023-04-12T16:21:22.102432Z"
    }
   },
   "outputs": [
    {
     "name": "stdout",
     "output_type": "stream",
     "text": [
      "gog\n"
     ]
    }
   ],
   "source": [
    "print(my_stock.name)"
   ]
  },
  {
   "cell_type": "markdown",
   "id": "3f903dfc",
   "metadata": {},
   "source": [
    "- We will loose informacion on argument signiture\n",
    "- We dont check the number of arguments while we create\n",
    "- loose the ability to do key word arguments  "
   ]
  },
  {
   "cell_type": "code",
   "execution_count": 64,
   "id": "cb0f60db",
   "metadata": {
    "ExecuteTime": {
     "end_time": "2023-04-12T16:21:22.110654Z",
     "start_time": "2023-04-12T16:21:22.108064Z"
    }
   },
   "outputs": [],
   "source": [
    "import inspect"
   ]
  },
  {
   "cell_type": "code",
   "execution_count": 65,
   "id": "c9f8d812",
   "metadata": {
    "ExecuteTime": {
     "end_time": "2023-04-12T16:21:22.117405Z",
     "start_time": "2023-04-12T16:21:22.114379Z"
    }
   },
   "outputs": [
    {
     "name": "stdout",
     "output_type": "stream",
     "text": [
      "(*args)\n"
     ]
    }
   ],
   "source": [
    "print(inspect.signature(Stock))"
   ]
  },
  {
   "cell_type": "markdown",
   "id": "06f2c1ae",
   "metadata": {
    "ExecuteTime": {
     "end_time": "2023-04-10T19:52:39.961868Z",
     "start_time": "2023-04-10T19:52:39.958529Z"
    }
   },
   "source": [
    "#### Signatures"
   ]
  },
  {
   "cell_type": "code",
   "execution_count": 66,
   "id": "c43fe60a",
   "metadata": {
    "ExecuteTime": {
     "end_time": "2023-04-12T16:21:22.122573Z",
     "start_time": "2023-04-12T16:21:22.119728Z"
    }
   },
   "outputs": [],
   "source": [
    "from inspect import Parameter, Signature"
   ]
  },
  {
   "cell_type": "code",
   "execution_count": 67,
   "id": "eeaefcd1",
   "metadata": {
    "ExecuteTime": {
     "end_time": "2023-04-12T16:21:22.127848Z",
     "start_time": "2023-04-12T16:21:22.124924Z"
    }
   },
   "outputs": [],
   "source": [
    "_fields = ['name', 'shares', 'price']"
   ]
  },
  {
   "cell_type": "code",
   "execution_count": 68,
   "id": "998c2f7f",
   "metadata": {
    "ExecuteTime": {
     "end_time": "2023-04-12T16:21:22.133247Z",
     "start_time": "2023-04-12T16:21:22.130246Z"
    }
   },
   "outputs": [],
   "source": [
    "parms = [ Parameter(fname, Parameter.POSITIONAL_OR_KEYWORD) for fname in _fields]"
   ]
  },
  {
   "cell_type": "code",
   "execution_count": 69,
   "id": "991608df",
   "metadata": {
    "ExecuteTime": {
     "end_time": "2023-04-12T16:21:22.140031Z",
     "start_time": "2023-04-12T16:21:22.136593Z"
    }
   },
   "outputs": [
    {
     "name": "stdout",
     "output_type": "stream",
     "text": [
      "[<Parameter \"name\">, <Parameter \"shares\">, <Parameter \"price\">]\n"
     ]
    }
   ],
   "source": [
    "print(parms)"
   ]
  },
  {
   "cell_type": "code",
   "execution_count": 70,
   "id": "2d3c3f34",
   "metadata": {
    "ExecuteTime": {
     "end_time": "2023-04-12T16:21:22.143744Z",
     "start_time": "2023-04-12T16:21:22.141413Z"
    }
   },
   "outputs": [],
   "source": [
    "sig = Signature(parms)"
   ]
  },
  {
   "cell_type": "code",
   "execution_count": 71,
   "id": "2352f41d",
   "metadata": {
    "ExecuteTime": {
     "end_time": "2023-04-12T16:21:22.148178Z",
     "start_time": "2023-04-12T16:21:22.145714Z"
    }
   },
   "outputs": [
    {
     "name": "stdout",
     "output_type": "stream",
     "text": [
      "<class 'inspect.Signature'>\n"
     ]
    }
   ],
   "source": [
    "print(type(sig))"
   ]
  },
  {
   "cell_type": "code",
   "execution_count": 72,
   "id": "9f9ffdbb",
   "metadata": {
    "ExecuteTime": {
     "end_time": "2023-04-12T16:21:22.152283Z",
     "start_time": "2023-04-12T16:21:22.149682Z"
    }
   },
   "outputs": [],
   "source": [
    "# What can you do with this signature?"
   ]
  },
  {
   "cell_type": "markdown",
   "id": "93f464d2",
   "metadata": {},
   "source": [
    "#### Binding Signatures"
   ]
  },
  {
   "cell_type": "code",
   "execution_count": 73,
   "id": "58fc585d",
   "metadata": {
    "ExecuteTime": {
     "end_time": "2023-04-12T16:21:22.157059Z",
     "start_time": "2023-04-12T16:21:22.154483Z"
    }
   },
   "outputs": [],
   "source": [
    "# Not great pattern, that we are using here an out of function scope object namely: sig)\n",
    "def func(*args, **kwargs):\n",
    "    # Sig.bind(binds positional / keyword to singnature)\n",
    "    bound_args = sig.bind(*args, **kwargs)\n",
    "    # .arguments is an OrderedDict of passed values\n",
    "    for name, val in bound_args.arguments.items():\n",
    "        print(name, \"=\", val)"
   ]
  },
  {
   "cell_type": "code",
   "execution_count": 74,
   "id": "3f0ea1f7",
   "metadata": {
    "ExecuteTime": {
     "end_time": "2023-04-12T16:21:22.161613Z",
     "start_time": "2023-04-12T16:21:22.158549Z"
    }
   },
   "outputs": [
    {
     "name": "stdout",
     "output_type": "stream",
     "text": [
      "name = 1\n",
      "shares = 2\n",
      "price = 3\n"
     ]
    }
   ],
   "source": [
    "func(1,2,3)"
   ]
  },
  {
   "cell_type": "code",
   "execution_count": 75,
   "id": "15034a39",
   "metadata": {
    "ExecuteTime": {
     "end_time": "2023-04-12T16:21:22.165887Z",
     "start_time": "2023-04-12T16:21:22.163000Z"
    }
   },
   "outputs": [
    {
     "name": "stdout",
     "output_type": "stream",
     "text": [
      "name = 1\n",
      "shares = 3\n",
      "price = 2\n"
     ]
    }
   ],
   "source": [
    "# bind can support keyword args\n",
    "func(1,price=2,shares = 3)\n",
    "# take a look on tthe print order!!"
   ]
  },
  {
   "cell_type": "code",
   "execution_count": 76,
   "id": "7815b836",
   "metadata": {
    "ExecuteTime": {
     "end_time": "2023-04-12T16:21:22.170032Z",
     "start_time": "2023-04-12T16:21:22.167504Z"
    }
   },
   "outputs": [
    {
     "name": "stdout",
     "output_type": "stream",
     "text": [
      "TypeError: missing a required argument: 'shares'\n"
     ]
    }
   ],
   "source": [
    "# bind chack arguments\n",
    "try: \n",
    "    func(1,price=2)\n",
    "except TypeError:\n",
    "    print(\"TypeError: missing a required argument: 'shares'\")"
   ]
  },
  {
   "cell_type": "code",
   "execution_count": 77,
   "id": "f89e612c",
   "metadata": {
    "ExecuteTime": {
     "end_time": "2023-04-12T16:21:22.175084Z",
     "start_time": "2023-04-12T16:21:22.172044Z"
    }
   },
   "outputs": [
    {
     "name": "stdout",
     "output_type": "stream",
     "text": [
      "TypeError: too many positional arguments\n"
     ]
    }
   ],
   "source": [
    "try: \n",
    "    # It is a bit tricky to catch a sintax error :) \n",
    "    eval('func(1,3, 2, 3)')\n",
    "except TypeError:\n",
    "    print(\"TypeError: too many positional arguments\")"
   ]
  },
  {
   "cell_type": "code",
   "execution_count": 78,
   "id": "d314b28f",
   "metadata": {
    "ExecuteTime": {
     "end_time": "2023-04-12T16:21:22.178686Z",
     "start_time": "2023-04-12T16:21:22.176508Z"
    }
   },
   "outputs": [],
   "source": [
    "from inspect import Parameter, Signature"
   ]
  },
  {
   "cell_type": "code",
   "execution_count": 79,
   "id": "bc42f699",
   "metadata": {
    "ExecuteTime": {
     "end_time": "2023-04-12T16:21:22.182717Z",
     "start_time": "2023-04-12T16:21:22.180333Z"
    }
   },
   "outputs": [],
   "source": [
    "def make_signature(names):\n",
    "    return Signature(\n",
    "        Parameter(\n",
    "            name,\n",
    "            Parameter.POSITIONAL_OR_KEYWORD) for name in names\n",
    "        )"
   ]
  },
  {
   "cell_type": "code",
   "execution_count": 80,
   "id": "f49ce990",
   "metadata": {
    "ExecuteTime": {
     "end_time": "2023-04-12T16:21:22.187554Z",
     "start_time": "2023-04-12T16:21:22.184609Z"
    }
   },
   "outputs": [],
   "source": [
    "class Structure:\n",
    "    __signature__ = make_signature([])\n",
    "    def __init__(self, *args, **kwargs):\n",
    "        # We are enforcing the signiture\n",
    "        bound = self.__signature__.bind(*args, **kwargs)\n",
    "        for name, val in bound.arguments.items():\n",
    "            setattr(self, name, val)"
   ]
  },
  {
   "cell_type": "code",
   "execution_count": 81,
   "id": "235a383f",
   "metadata": {
    "ExecuteTime": {
     "end_time": "2023-04-12T16:21:22.191732Z",
     "start_time": "2023-04-12T16:21:22.189112Z"
    }
   },
   "outputs": [],
   "source": [
    "class Stock(Structure):\n",
    "    __signature__  = make_signature(['name', 'shares', 'price'])\n",
    "\n",
    "class Point(Structure):\n",
    "    __signature__  = make_signature(['x', 'y'])\n",
    "\n",
    "\n",
    "class Address(Structure):\n",
    "     __signature__  = make_signature(['hostname', 'port'])"
   ]
  },
  {
   "cell_type": "code",
   "execution_count": 82,
   "id": "8ce11d52",
   "metadata": {
    "ExecuteTime": {
     "end_time": "2023-04-12T16:21:22.195527Z",
     "start_time": "2023-04-12T16:21:22.193116Z"
    }
   },
   "outputs": [],
   "source": [
    "s = Stock(\"Gog\", 210, 43.1)"
   ]
  },
  {
   "cell_type": "code",
   "execution_count": 83,
   "id": "133ee479",
   "metadata": {
    "ExecuteTime": {
     "end_time": "2023-04-12T16:21:22.201865Z",
     "start_time": "2023-04-12T16:21:22.198490Z"
    }
   },
   "outputs": [
    {
     "name": "stdout",
     "output_type": "stream",
     "text": [
      "Gog\n"
     ]
    }
   ],
   "source": [
    "print(s.name)"
   ]
  },
  {
   "cell_type": "code",
   "execution_count": 84,
   "id": "3f12980e",
   "metadata": {
    "ExecuteTime": {
     "end_time": "2023-04-12T16:21:22.208152Z",
     "start_time": "2023-04-12T16:21:22.204461Z"
    }
   },
   "outputs": [
    {
     "name": "stdout",
     "output_type": "stream",
     "text": [
      "210\n"
     ]
    }
   ],
   "source": [
    "print(s.shares)"
   ]
  },
  {
   "cell_type": "code",
   "execution_count": 85,
   "id": "bd94c144",
   "metadata": {
    "ExecuteTime": {
     "end_time": "2023-04-12T16:21:22.213019Z",
     "start_time": "2023-04-12T16:21:22.209758Z"
    }
   },
   "outputs": [
    {
     "name": "stdout",
     "output_type": "stream",
     "text": [
      "Get: __class__\n",
      "Get: __class__\n",
      "Get: __class__\n",
      "Get: __class__\n"
     ]
    }
   ],
   "source": [
    "p = Stock(\"Gor\", shares = 10, price = 1)"
   ]
  },
  {
   "cell_type": "code",
   "execution_count": 86,
   "id": "6ca18eaf",
   "metadata": {
    "ExecuteTime": {
     "end_time": "2023-04-12T16:21:22.220412Z",
     "start_time": "2023-04-12T16:21:22.217152Z"
    }
   },
   "outputs": [
    {
     "name": "stdout",
     "output_type": "stream",
     "text": [
      "Gor\n"
     ]
    }
   ],
   "source": [
    "print(p.name)"
   ]
  },
  {
   "cell_type": "code",
   "execution_count": 87,
   "id": "3a73321c",
   "metadata": {
    "ExecuteTime": {
     "end_time": "2023-04-12T16:21:22.226890Z",
     "start_time": "2023-04-12T16:21:22.223502Z"
    }
   },
   "outputs": [
    {
     "name": "stdout",
     "output_type": "stream",
     "text": [
      "(name, shares, price)\n"
     ]
    }
   ],
   "source": [
    "print(inspect.signature(Stock))"
   ]
  },
  {
   "cell_type": "markdown",
   "id": "4033ff2d",
   "metadata": {},
   "source": [
    "#### Binding Signatures simplifyable?"
   ]
  },
  {
   "cell_type": "markdown",
   "id": "53295351",
   "metadata": {},
   "source": [
    "- Pattern:\n",
    "    - Problems involving class definitions are solved by\n",
    "        - Class decorators\n",
    "        - Meta classes\n",
    "    - What seems better here?"
   ]
  },
  {
   "cell_type": "markdown",
   "id": "3a397d50",
   "metadata": {},
   "source": [
    "##### With class decorators"
   ]
  },
  {
   "cell_type": "code",
   "execution_count": 88,
   "id": "39b0ba1b",
   "metadata": {
    "ExecuteTime": {
     "end_time": "2023-04-12T16:21:22.233293Z",
     "start_time": "2023-04-12T16:21:22.229580Z"
    }
   },
   "outputs": [],
   "source": [
    "def add_signature(*names):\n",
    "    def decorate(cls):\n",
    "        cls.__signature__ = make_signature(names)\n",
    "        return cls\n",
    "    return decorate"
   ]
  },
  {
   "cell_type": "code",
   "execution_count": 89,
   "id": "2d5e5176",
   "metadata": {
    "ExecuteTime": {
     "end_time": "2023-04-12T16:21:22.239890Z",
     "start_time": "2023-04-12T16:21:22.236368Z"
    }
   },
   "outputs": [],
   "source": [
    "@add_signature(\"name\", \"shares\", \"price\")\n",
    "class Stock(Structure):\n",
    "    pass\n",
    "\n",
    "@add_signature(\"x\", \"y\")\n",
    "class Point(Structure):\n",
    "    pass\n",
    "\n"
   ]
  },
  {
   "cell_type": "code",
   "execution_count": 90,
   "id": "e2570bb1",
   "metadata": {
    "ExecuteTime": {
     "end_time": "2023-04-12T16:21:22.244822Z",
     "start_time": "2023-04-12T16:21:22.242078Z"
    }
   },
   "outputs": [],
   "source": [
    "t = Point(2, 3)"
   ]
  },
  {
   "cell_type": "code",
   "execution_count": 91,
   "id": "414239a5",
   "metadata": {
    "ExecuteTime": {
     "end_time": "2023-04-12T16:21:22.248973Z",
     "start_time": "2023-04-12T16:21:22.246333Z"
    }
   },
   "outputs": [
    {
     "name": "stdout",
     "output_type": "stream",
     "text": [
      "3\n"
     ]
    }
   ],
   "source": [
    "print(t.y)"
   ]
  },
  {
   "cell_type": "markdown",
   "id": "44561fb8",
   "metadata": {},
   "source": [
    "##### With class decorators"
   ]
  },
  {
   "cell_type": "code",
   "execution_count": 92,
   "id": "b47a0d73",
   "metadata": {
    "ExecuteTime": {
     "end_time": "2023-04-12T16:21:22.256867Z",
     "start_time": "2023-04-12T16:21:22.251744Z"
    }
   },
   "outputs": [],
   "source": [
    "class StructMeta(type):\n",
    "    def __new__(cls, name, bases, clsdict):\n",
    "        # Make the class\n",
    "        clsobj = super().__new__(cls, name, bases, clsdict)\n",
    "        # After makeing the class make the signatere\n",
    "        sig = make_signature(clsobj._fields)\n",
    "        # \"drop\" it on the class\n",
    "        setattr(clsobj, '__signature__', sig)\n",
    "        return clsobj\n",
    "\n",
    "class Structure(metaclass = StructMeta):\n",
    "    _fields = []\n",
    "    def __init__(self, *args, **kwargs):\n",
    "        bound = self.__signature__.bind(*args, **kwargs)\n",
    "        for name, val in bound.arguments.items():\n",
    "            setattr(self, name, val)"
   ]
  },
  {
   "cell_type": "code",
   "execution_count": 93,
   "id": "001a9243",
   "metadata": {
    "ExecuteTime": {
     "end_time": "2023-04-12T16:21:22.262543Z",
     "start_time": "2023-04-12T16:21:22.259374Z"
    }
   },
   "outputs": [],
   "source": [
    "class Stock(Structure):\n",
    "    _fields = [\"name\", \"shares\", \"price\"]\n",
    "\n",
    "    \n",
    "class Point(Structure):\n",
    "     _fields = [\"x\", \"y\"]"
   ]
  },
  {
   "cell_type": "code",
   "execution_count": 94,
   "id": "f4f7edad",
   "metadata": {
    "ExecuteTime": {
     "end_time": "2023-04-12T16:21:22.267731Z",
     "start_time": "2023-04-12T16:21:22.265203Z"
    }
   },
   "outputs": [],
   "source": [
    "z = Point(4, 6)"
   ]
  },
  {
   "cell_type": "code",
   "execution_count": 95,
   "id": "fdbd7eba",
   "metadata": {
    "ExecuteTime": {
     "end_time": "2023-04-12T16:21:22.272919Z",
     "start_time": "2023-04-12T16:21:22.270333Z"
    }
   },
   "outputs": [
    {
     "name": "stdout",
     "output_type": "stream",
     "text": [
      "4\n"
     ]
    }
   ],
   "source": [
    "print(z.x)"
   ]
  },
  {
   "cell_type": "code",
   "execution_count": 96,
   "id": "1c5823e7",
   "metadata": {
    "ExecuteTime": {
     "end_time": "2023-04-12T16:21:22.276725Z",
     "start_time": "2023-04-12T16:21:22.274473Z"
    }
   },
   "outputs": [],
   "source": [
    "z3 = Point(y = 3, x = 2)"
   ]
  },
  {
   "cell_type": "code",
   "execution_count": 97,
   "id": "4870f17d",
   "metadata": {
    "ExecuteTime": {
     "end_time": "2023-04-12T16:21:22.280952Z",
     "start_time": "2023-04-12T16:21:22.278255Z"
    }
   },
   "outputs": [
    {
     "name": "stdout",
     "output_type": "stream",
     "text": [
      "3\n"
     ]
    }
   ],
   "source": [
    "print(z3.y)"
   ]
  },
  {
   "cell_type": "markdown",
   "id": "5f107877",
   "metadata": {
    "ExecuteTime": {
     "end_time": "2023-04-11T01:50:08.471609Z",
     "start_time": "2023-04-11T01:50:08.465908Z"
    }
   },
   "source": [
    "##### Advanced like tyep check"
   ]
  },
  {
   "cell_type": "code",
   "execution_count": 98,
   "id": "a3ba4712",
   "metadata": {
    "ExecuteTime": {
     "end_time": "2023-04-12T16:21:22.285778Z",
     "start_time": "2023-04-12T16:21:22.282416Z"
    }
   },
   "outputs": [],
   "source": [
    "#advanced like typcheck\n",
    "class Structure(metaclass = StructMeta):\n",
    "    _fields = []\n",
    "    def __init__(self, *args, **kwargs):\n",
    "        bound = self.__signature__.bind(*args, **kwargs)\n",
    "        for name, val in bound.arguments.items():\n",
    "            setattr(self, name, val)\n",
    "    def __repr__(self):\n",
    "        args = ', '.join(repr(getattr(self, name)) for name in self._fields)\n",
    "        return type(self).__name__ + '(' + args + ')'"
   ]
  },
  {
   "cell_type": "code",
   "execution_count": 99,
   "id": "ff071ae2",
   "metadata": {
    "ExecuteTime": {
     "end_time": "2023-04-12T16:21:22.291125Z",
     "start_time": "2023-04-12T16:21:22.288212Z"
    }
   },
   "outputs": [],
   "source": [
    "class Stock(Structure):\n",
    "    _fields = [\"name\", \"shares\", \"price\"]"
   ]
  },
  {
   "cell_type": "code",
   "execution_count": 100,
   "id": "e26f5112",
   "metadata": {
    "ExecuteTime": {
     "end_time": "2023-04-12T16:21:22.296396Z",
     "start_time": "2023-04-12T16:21:22.293528Z"
    }
   },
   "outputs": [],
   "source": [
    "s = Stock(\"gagarin\", 2, 3)"
   ]
  },
  {
   "cell_type": "code",
   "execution_count": 101,
   "id": "15701280",
   "metadata": {
    "ExecuteTime": {
     "end_time": "2023-04-12T16:21:22.303850Z",
     "start_time": "2023-04-12T16:21:22.300452Z"
    }
   },
   "outputs": [
    {
     "name": "stdout",
     "output_type": "stream",
     "text": [
      "True\n"
     ]
    }
   ],
   "source": [
    "print(isinstance(s, Structure))"
   ]
  },
  {
   "cell_type": "code",
   "execution_count": 102,
   "id": "9d89c637",
   "metadata": {
    "ExecuteTime": {
     "end_time": "2023-04-12T16:21:22.309798Z",
     "start_time": "2023-04-12T16:21:22.306454Z"
    }
   },
   "outputs": [
    {
     "name": "stdout",
     "output_type": "stream",
     "text": [
      "Stock('gagarin', 2, 3)\n"
     ]
    }
   ],
   "source": [
    "print(s.__repr__())"
   ]
  },
  {
   "cell_type": "markdown",
   "id": "c6b78b76",
   "metadata": {},
   "source": [
    "- Help functions does not loog for signatures \n",
    "- Does @wraps() propagate or does not propagate __signatures__ ?\n",
    "- Can .bind(*args, ** kwargs) pushed to the metaclass?\n",
    "    - no because bind is executed at instance creation\n",
    "    - metaclass would be more about class definicion time"
   ]
  },
  {
   "cell_type": "markdown",
   "id": "ef122471",
   "metadata": {},
   "source": [
    "### Owning the dot"
   ]
  },
  {
   "cell_type": "markdown",
   "id": "1089edd9",
   "metadata": {
    "ExecuteTime": {
     "end_time": "2023-04-11T01:50:08.471609Z",
     "start_time": "2023-04-11T01:50:08.465908Z"
    }
   },
   "source": [
    "#### The problem of correctness"
   ]
  },
  {
   "cell_type": "code",
   "execution_count": 103,
   "id": "c6612578",
   "metadata": {
    "ExecuteTime": {
     "end_time": "2023-04-12T16:21:22.315445Z",
     "start_time": "2023-04-12T16:21:22.312683Z"
    }
   },
   "outputs": [],
   "source": [
    "s = Stock('ACM', 30, 91.1)"
   ]
  },
  {
   "cell_type": "code",
   "execution_count": 104,
   "id": "bc18cad6",
   "metadata": {
    "ExecuteTime": {
     "end_time": "2023-04-12T16:21:22.321429Z",
     "start_time": "2023-04-12T16:21:22.318313Z"
    }
   },
   "outputs": [],
   "source": [
    "s.name = 43\n",
    "s.shares = \"A lot\"\n",
    "s.price = (2323.22 + 2j)\n",
    "## AND THIS IS A PROBLEM\n",
    "# Where dowe validate?"
   ]
  },
  {
   "cell_type": "code",
   "execution_count": 105,
   "id": "ba6ee80a",
   "metadata": {
    "ExecuteTime": {
     "end_time": "2023-04-12T16:21:22.328957Z",
     "start_time": "2023-04-12T16:21:22.323916Z"
    }
   },
   "outputs": [],
   "source": [
    "class Stock(Structure):\n",
    "    _fields = [\"name\", \"shares\", \"price\"]\n",
    "    \n",
    "    @property # getter\n",
    "    def shares(self):\n",
    "        return self._shares\n",
    "    \n",
    "    @shares.setter # setter\n",
    "    def shares(self, value):\n",
    "        if not isinstance(value, int):\n",
    "            raise TypeError('expected int')\n",
    "        if value < 0:\n",
    "            raise ValueError('Must be >= 0')\n",
    "        self._shares = value"
   ]
  },
  {
   "cell_type": "code",
   "execution_count": 106,
   "id": "6602e279",
   "metadata": {
    "ExecuteTime": {
     "end_time": "2023-04-12T16:21:22.335874Z",
     "start_time": "2023-04-12T16:21:22.333226Z"
    }
   },
   "outputs": [],
   "source": [
    "s = Stock('ACM', 30, 11)"
   ]
  },
  {
   "cell_type": "code",
   "execution_count": 107,
   "id": "75de1cf7",
   "metadata": {
    "ExecuteTime": {
     "end_time": "2023-04-12T16:21:22.341848Z",
     "start_time": "2023-04-12T16:21:22.337898Z"
    }
   },
   "outputs": [
    {
     "name": "stdout",
     "output_type": "stream",
     "text": [
      "expected int\n"
     ]
    }
   ],
   "source": [
    "try:\n",
    "    s.shares = \"A lot\"\n",
    "except TypeError as R:\n",
    "    print(R)"
   ]
  },
  {
   "cell_type": "markdown",
   "id": "bb189293",
   "metadata": {},
   "source": [
    "#### How to simplify this correctness"
   ]
  },
  {
   "cell_type": "markdown",
   "id": "20b00886",
   "metadata": {},
   "source": [
    "- Things we do:\n",
    "    - Type check \n",
    "    - Domain / value checking\n",
    "- Properties are implemmented via descriptors"
   ]
  },
  {
   "cell_type": "code",
   "execution_count": 108,
   "id": "8ce64d43",
   "metadata": {
    "ExecuteTime": {
     "end_time": "2023-04-12T16:21:22.349957Z",
     "start_time": "2023-04-12T16:21:22.344229Z"
    }
   },
   "outputs": [],
   "source": [
    "# This \"owns\" the dot for a single atribute\n",
    "class Descriptor:\n",
    "    def __init__(self, name = None):\n",
    "        # This is the name of the attribute being stored \n",
    "        self.name = name\n",
    "        \n",
    "    # If you use the same name in instance dictionary, the __get__ method is optional\n",
    "    def __get__(self, instance, cls):\n",
    "        # here the instance IS the instance we are working with\n",
    "        print(\"Get\", self.name)\n",
    "        if instance is None:\n",
    "            return self\n",
    "        # Dierct manipulation of the instance dictionary\n",
    "        return instance.__dict__[self.name]\n",
    "    \n",
    "    def __set__(self, instance, value):\n",
    "        print(\"Set\", self.name, value)\n",
    "        # We can just drop a value on name?\n",
    "        # Dierct manipulation of the instance dictionary\n",
    "        instance.__dict__[self.name] = value\n",
    "    \n",
    "    def __delete__(self, instance):\n",
    "        print(\"Delete\", self.name)\n",
    "        # Dierct manipulation of the instance dictionary\n",
    "        del instance.__dict__[self.name]\n",
    "        \n"
   ]
  },
  {
   "cell_type": "code",
   "execution_count": 109,
   "id": "94785724",
   "metadata": {
    "ExecuteTime": {
     "end_time": "2023-04-12T16:21:22.358348Z",
     "start_time": "2023-04-12T16:21:22.352039Z"
    }
   },
   "outputs": [],
   "source": [
    "def make_signature(names):\n",
    "    return Signature(\n",
    "        Parameter(\n",
    "            name,\n",
    "            Parameter.POSITIONAL_OR_KEYWORD) for name in names\n",
    "        )\n",
    "\n",
    "class StructMeta(type):\n",
    "    def __new__(cls, name, bases, clsdict):\n",
    "        # Make the class\n",
    "        clsobj = super().__new__(cls, name, bases, clsdict)\n",
    "        # After makeing the class make the signatere\n",
    "        sig = make_signature(clsobj._fields)\n",
    "        # \"drop\" it on the class\n",
    "        setattr(clsobj, '__signature__', sig)\n",
    "        return clsobj\n",
    "\n",
    "class Structure(metaclass = StructMeta):\n",
    "    _fields = []\n",
    "    def __init__(self, *args, **kwargs):\n",
    "        bound = self.__signature__.bind(*args, **kwargs)\n",
    "        for name, val in bound.arguments.items():\n",
    "            setattr(self, name, val)"
   ]
  },
  {
   "cell_type": "code",
   "execution_count": 110,
   "id": "8d6ca5fa",
   "metadata": {
    "ExecuteTime": {
     "end_time": "2023-04-12T16:21:22.364161Z",
     "start_time": "2023-04-12T16:21:22.360720Z"
    }
   },
   "outputs": [],
   "source": [
    "class Stock(Structure):\n",
    "    _fields = [\"name\", \"shares\", \"price\"]\n",
    "    \n",
    "    #shares will be captured by this  Descriptor object\n",
    "    name = Descriptor('name')\n",
    "    shares = Descriptor(\"shares\")\n",
    "    price = Descriptor('price')"
   ]
  },
  {
   "cell_type": "code",
   "execution_count": 111,
   "id": "8d1ddd12",
   "metadata": {
    "ExecuteTime": {
     "end_time": "2023-04-12T16:21:22.369819Z",
     "start_time": "2023-04-12T16:21:22.366174Z"
    }
   },
   "outputs": [
    {
     "name": "stdout",
     "output_type": "stream",
     "text": [
      "Set name ACM\n",
      "Set shares 30\n",
      "Set price 11\n"
     ]
    }
   ],
   "source": [
    "s = Stock('ACM', 30, 11)\n",
    "# >> Set shares 30\n",
    "\n",
    "# Woow, we captured the event of setting shares attribuute to 30"
   ]
  },
  {
   "cell_type": "code",
   "execution_count": 112,
   "id": "c4f434d3",
   "metadata": {
    "ExecuteTime": {
     "end_time": "2023-04-12T16:21:22.377138Z",
     "start_time": "2023-04-12T16:21:22.374283Z"
    }
   },
   "outputs": [
    {
     "name": "stdout",
     "output_type": "stream",
     "text": [
      "Get shares\n",
      "30\n"
     ]
    }
   ],
   "source": [
    "print(s.shares)"
   ]
  },
  {
   "cell_type": "code",
   "execution_count": 113,
   "id": "c4839234",
   "metadata": {
    "ExecuteTime": {
     "end_time": "2023-04-12T16:21:22.382510Z",
     "start_time": "2023-04-12T16:21:22.379585Z"
    }
   },
   "outputs": [
    {
     "name": "stdout",
     "output_type": "stream",
     "text": [
      "Get name\n",
      "ACM\n"
     ]
    }
   ],
   "source": [
    "print(s.name)"
   ]
  },
  {
   "cell_type": "code",
   "execution_count": 114,
   "id": "a9173c31",
   "metadata": {
    "ExecuteTime": {
     "end_time": "2023-04-12T16:21:22.387531Z",
     "start_time": "2023-04-12T16:21:22.384702Z"
    }
   },
   "outputs": [
    {
     "name": "stdout",
     "output_type": "stream",
     "text": [
      "Delete shares\n"
     ]
    }
   ],
   "source": [
    "del s.shares"
   ]
  },
  {
   "cell_type": "code",
   "execution_count": 115,
   "id": "75affd24",
   "metadata": {
    "ExecuteTime": {
     "end_time": "2023-04-12T16:21:22.393222Z",
     "start_time": "2023-04-12T16:21:22.390226Z"
    }
   },
   "outputs": [
    {
     "name": "stdout",
     "output_type": "stream",
     "text": [
      "Set shares 50\n"
     ]
    }
   ],
   "source": [
    "s.shares = 50"
   ]
  },
  {
   "cell_type": "code",
   "execution_count": 116,
   "id": "f94c7899",
   "metadata": {
    "ExecuteTime": {
     "end_time": "2023-04-12T16:21:22.398907Z",
     "start_time": "2023-04-12T16:21:22.395901Z"
    }
   },
   "outputs": [
    {
     "name": "stdout",
     "output_type": "stream",
     "text": [
      "Get shares\n",
      "50\n"
     ]
    }
   ],
   "source": [
    "print(s.shares)"
   ]
  },
  {
   "cell_type": "code",
   "execution_count": 117,
   "id": "43379d15",
   "metadata": {
    "ExecuteTime": {
     "end_time": "2023-04-12T16:21:22.404630Z",
     "start_time": "2023-04-12T16:21:22.401534Z"
    }
   },
   "outputs": [
    {
     "name": "stdout",
     "output_type": "stream",
     "text": [
      "Get price\n",
      "11\n"
     ]
    }
   ],
   "source": [
    "print(s.price)"
   ]
  },
  {
   "cell_type": "code",
   "execution_count": 118,
   "id": "05910eab",
   "metadata": {
    "ExecuteTime": {
     "end_time": "2023-04-12T16:21:22.410529Z",
     "start_time": "2023-04-12T16:21:22.407131Z"
    }
   },
   "outputs": [
    {
     "name": "stdout",
     "output_type": "stream",
     "text": [
      "Set shares 50\n",
      "Delete shares\n"
     ]
    }
   ],
   "source": [
    "s.shares = 50\n",
    "del s.shares"
   ]
  },
  {
   "cell_type": "markdown",
   "id": "9deb970d",
   "metadata": {},
   "source": [
    "#### Type Checking"
   ]
  },
  {
   "cell_type": "code",
   "execution_count": 119,
   "id": "9c9fe694",
   "metadata": {
    "ExecuteTime": {
     "end_time": "2023-04-12T16:21:22.419206Z",
     "start_time": "2023-04-12T16:21:22.412939Z"
    }
   },
   "outputs": [],
   "source": [
    "# This \"owns\" the dot for a single atribute\n",
    "class Descriptor:\n",
    "    def __init__(self, name = None):\n",
    "        # This is the name of the attribute being stored \n",
    "        self.name = name\n",
    "        \n",
    "    # If you use the same name in instance dictionary, the __get__ method is optional\n",
    "    def __get__(self, instance, cls):\n",
    "        # here the instance IS the instance we are working with\n",
    "        print(\"Get\", self.name)\n",
    "        if instance is None:\n",
    "            return self\n",
    "        # Dierct manipulation of the instance dictionary\n",
    "        return instance.__dict__[self.name]\n",
    "    \n",
    "    def __set__(self, instance, value):\n",
    "        print(\"Set\", self.name, value)\n",
    "        # We can just drop a value on name?\n",
    "        # Dierct manipulation of the instance dictionary\n",
    "        instance.__dict__[self.name] = value\n",
    "    \n",
    "    def __delete__(self, instance):\n",
    "        print(\"Delete\", self.name)\n",
    "        # Dierct manipulation of the instance dictionary\n",
    "        del instance.__dict__[self.name]\n",
    "        \n"
   ]
  },
  {
   "cell_type": "code",
   "execution_count": 120,
   "id": "0bdd4675",
   "metadata": {
    "ExecuteTime": {
     "end_time": "2023-04-12T16:21:22.428171Z",
     "start_time": "2023-04-12T16:21:22.421745Z"
    }
   },
   "outputs": [],
   "source": [
    "class Typed(Descriptor):\n",
    "    \n",
    "    ty = object # The expected type\n",
    "    # We are extending this descriptor\n",
    "    def __set__(self, instance, value):\n",
    "        if not isinstance(value, self.ty):\n",
    "            raise TypeError('Expected %s' % self.ty) # Do this at least with fstring\n",
    "        # Pass this for the __set__method\n",
    "        super().__set__(instance, value)\n",
    "        \n",
    "class Integer(Typed):\n",
    "    ty = int\n",
    "\n",
    "class Float(Typed):\n",
    "    ty = float\n",
    "    \n",
    "class String(Typed):\n",
    "    ty = str\n",
    "    \n",
    "class Positive(Descriptor):\n",
    "    def __set__(self, instance, value):\n",
    "        if value < 0:\n",
    "            raise ValueError('Must be >= 0')\n",
    "        super().__set__(instance, value)\n",
    "\n",
    "# We are combining two different implementations \n",
    "#  (i dont like this personally, cause it does not showes)\n",
    "#  (that we are funneling, like combining functions, these classes are much more closer to functions and function combination)\n",
    "# \n",
    "# Orther mathers here (just like f ° g =/= g ° f by default)\n",
    "# you would do a numeric copareing on a non numeric type if you first check positiviness and you dont know if its an int or not\n",
    "class PositiveInteger(Integer, Positive):\n",
    "    \n",
    "    pass\n",
    "\n",
    "class PositiveFloat(Float, Positive):\n",
    "    pass\n",
    "\n",
    "######!!!!!!!!! Length checking (back to this after you got to MRO)\n",
    "class Size(Descriptor):\n",
    "    # # Keyword only argument pattern \n",
    "    def __init__(self, *args, maxlen, **kwargs):\n",
    "        # We are just pulling a maxlen from the middle\n",
    "        self.maxlen = maxlen\n",
    "        super().__init__(*args, **kwargs)\n",
    "        \n",
    "    def __set__(self, instance, value):\n",
    "        if len(value) >  self.maxlen:\n",
    "            raise ValueError('Too BIG')\n",
    "        super().__set__(instance, value)\n",
    "\n",
    "class SizedString(String, Size):\n",
    "    pass\n",
    "\n",
    "# go full retard\n",
    "import re\n",
    "\n",
    "class Regex(Descriptor):\n",
    "    # Keyword only argument pattern \n",
    "    def __init__(self, *args, pat, **kwargs):\n",
    "        self.pat = re.compile(pat)\n",
    "        super().__init__(*args, **kwargs)\n",
    "        \n",
    "    def __set__(self, instance, value):\n",
    "        if not self.pat.match(value):\n",
    "            raise ValueError('Invalid string')\n",
    "        super().__set__(instance, value)\n",
    "\n",
    "class SizedRegexString(SizedString, Regex):\n",
    "    pass"
   ]
  },
  {
   "cell_type": "code",
   "execution_count": 121,
   "id": "025a7bbd",
   "metadata": {
    "ExecuteTime": {
     "end_time": "2023-04-12T16:21:22.434634Z",
     "start_time": "2023-04-12T16:21:22.430869Z"
    }
   },
   "outputs": [],
   "source": [
    "def make_signature(names):\n",
    "    return Signature(\n",
    "        Parameter(\n",
    "            name,\n",
    "            Parameter.POSITIONAL_OR_KEYWORD) for name in names\n",
    "        )\n",
    "\n",
    "class StructMeta(type):\n",
    "    def __new__(cls, name, bases, clsdict):\n",
    "        # Make the class\n",
    "        clsobj = super().__new__(cls, name, bases, clsdict)\n",
    "        # After makeing the class make the signatere\n",
    "        sig = make_signature(clsobj._fields)\n",
    "        # \"drop\" it on the class\n",
    "        setattr(clsobj, '__signature__', sig)\n",
    "        return clsobj\n",
    "\n",
    "class Structure(metaclass = StructMeta):\n",
    "    _fields = []\n",
    "    def __init__(self, *args, **kwargs):\n",
    "        bound = self.__signature__.bind(*args, **kwargs)\n",
    "        for name, val in bound.arguments.items():\n",
    "            setattr(self, name, val)"
   ]
  },
  {
   "cell_type": "code",
   "execution_count": 122,
   "id": "2a5bc194",
   "metadata": {
    "ExecuteTime": {
     "end_time": "2023-04-12T16:21:22.439236Z",
     "start_time": "2023-04-12T16:21:22.436099Z"
    }
   },
   "outputs": [],
   "source": [
    "class Stock(Structure):\n",
    "    _fields = [\"name\", \"shares\", \"price\"]\n",
    "    \n",
    "    #shares will be captured by this  Descriptor object\n",
    "    #name = String('name')\n",
    "    # Two init functions, combined together\n",
    "    name = SizedRegexString('name', pat = '[A-Z]+$', maxlen = 5)\n",
    "    shares = PositiveInteger(\"shares\")\n",
    "    price = Float('price')"
   ]
  },
  {
   "cell_type": "code",
   "execution_count": 123,
   "id": "e437069b",
   "metadata": {
    "ExecuteTime": {
     "end_time": "2023-04-12T16:21:22.444798Z",
     "start_time": "2023-04-12T16:21:22.441561Z"
    }
   },
   "outputs": [
    {
     "name": "stdout",
     "output_type": "stream",
     "text": [
      "Set name BARK\n",
      "Set shares 3\n",
      "Set price 12.1\n"
     ]
    }
   ],
   "source": [
    "s = Stock(\"BARK\", 3, 12.1)"
   ]
  },
  {
   "cell_type": "code",
   "execution_count": 124,
   "id": "1ea14e38",
   "metadata": {
    "ExecuteTime": {
     "end_time": "2023-04-12T16:21:22.450070Z",
     "start_time": "2023-04-12T16:21:22.446959Z"
    }
   },
   "outputs": [
    {
     "name": "stdout",
     "output_type": "stream",
     "text": [
      "Set name ACM\n"
     ]
    }
   ],
   "source": [
    "s.name = \"ACM\""
   ]
  },
  {
   "cell_type": "code",
   "execution_count": 125,
   "id": "d2ab6b29",
   "metadata": {
    "ExecuteTime": {
     "end_time": "2023-04-12T16:21:22.456090Z",
     "start_time": "2023-04-12T16:21:22.452516Z"
    }
   },
   "outputs": [
    {
     "name": "stdout",
     "output_type": "stream",
     "text": [
      "Expected <class 'str'>\n"
     ]
    }
   ],
   "source": [
    "try: \n",
    "    s.name = 23\n",
    "    # Interception is done before we hit the instance dictionary\n",
    "    # The name of the descriptor and the name of the atrinute should be the same \n",
    "    #   Or we would need a __get__ method implemented \n",
    "except TypeError as R:\n",
    "    print(R)"
   ]
  },
  {
   "cell_type": "code",
   "execution_count": 126,
   "id": "341d933c",
   "metadata": {
    "ExecuteTime": {
     "end_time": "2023-04-12T16:21:22.462051Z",
     "start_time": "2023-04-12T16:21:22.458618Z"
    }
   },
   "outputs": [
    {
     "name": "stdout",
     "output_type": "stream",
     "text": [
      "Must be >= 0\n"
     ]
    }
   ],
   "source": [
    "try:\n",
    "    s.shares = -1\n",
    "except ValueError as R:\n",
    "    print(R)"
   ]
  },
  {
   "cell_type": "markdown",
   "id": "b42c6cc8",
   "metadata": {},
   "source": [
    "#### Understanding Method Resolution Order (MRO)"
   ]
  },
  {
   "cell_type": "code",
   "execution_count": 127,
   "id": "b9cdb24e",
   "metadata": {
    "ExecuteTime": {
     "end_time": "2023-04-12T16:21:22.467382Z",
     "start_time": "2023-04-12T16:21:22.464326Z"
    }
   },
   "outputs": [],
   "source": [
    "class PosInteger(Integer, Positive):\n",
    "    pass"
   ]
  },
  {
   "cell_type": "code",
   "execution_count": 128,
   "id": "76646445",
   "metadata": {
    "ExecuteTime": {
     "end_time": "2023-04-12T16:21:22.472930Z",
     "start_time": "2023-04-12T16:21:22.469687Z"
    }
   },
   "outputs": [
    {
     "data": {
      "text/plain": [
       "(__main__.PosInteger,\n",
       " __main__.Integer,\n",
       " __main__.Typed,\n",
       " __main__.Positive,\n",
       " __main__.Descriptor,\n",
       " object)"
      ]
     },
     "execution_count": 128,
     "metadata": {},
     "output_type": "execute_result"
    }
   ],
   "source": [
    "# This is regarding multiple inharitance\n",
    "PosInteger.__mro__ # This chain defines the order in wich the value is checked by different __set__() methods\n",
    "# This is the control flow of all those set functions\n",
    "# Here the super of the \"Typed\" does not go to the parent \"usually\" ( it goes to the next thing on th MRO)\n",
    "# The super of the positive will go to the base class\n",
    "# with super you should understand diamond problems"
   ]
  },
  {
   "cell_type": "code",
   "execution_count": 129,
   "id": "15480497",
   "metadata": {
    "ExecuteTime": {
     "end_time": "2023-04-12T16:21:22.478737Z",
     "start_time": "2023-04-12T16:21:22.475100Z"
    }
   },
   "outputs": [
    {
     "name": "stdout",
     "output_type": "stream",
     "text": [
      "Too BIG\n"
     ]
    }
   ],
   "source": [
    "try:\n",
    "    s = Stock(\"BARKsds\", 3, 12.1)\n",
    "except ValueError as R:\n",
    "    print(R)"
   ]
  },
  {
   "cell_type": "code",
   "execution_count": 130,
   "id": "f88fe045",
   "metadata": {
    "ExecuteTime": {
     "end_time": "2023-04-12T16:21:22.484268Z",
     "start_time": "2023-04-12T16:21:22.480933Z"
    }
   },
   "outputs": [
    {
     "name": "stdout",
     "output_type": "stream",
     "text": [
      "Invalid string\n"
     ]
    }
   ],
   "source": [
    "try:\n",
    "    s = Stock(\"Broo\", 3, 12.1)\n",
    "except ValueError as R:\n",
    "    print(R)"
   ]
  },
  {
   "cell_type": "markdown",
   "id": "3d9f810b",
   "metadata": {
    "ExecuteTime": {
     "end_time": "2023-04-11T01:19:38.819413Z",
     "start_time": "2023-04-11T01:19:38.783796Z"
    }
   },
   "source": [
    "#### Annoyance? of what?"
   ]
  },
  {
   "cell_type": "code",
   "execution_count": 131,
   "id": "f3b26752",
   "metadata": {
    "ExecuteTime": {
     "end_time": "2023-04-12T16:21:22.492941Z",
     "start_time": "2023-04-12T16:21:22.489366Z"
    }
   },
   "outputs": [],
   "source": [
    "class Stock(Structure):\n",
    "    _fields = [\"name\", \"shares\", \"price\"]\n",
    "    \n",
    "    #shares will be captured by this  Descriptor object\n",
    "    #name = String('name')\n",
    "    # Two init functions, combined together\n",
    "    name = SizedRegexString('name', pat = '[A-Z]+$', maxlen = 5)\n",
    "    shares = PositiveInteger(\"shares\")\n",
    "    price = Float('price')"
   ]
  },
  {
   "cell_type": "code",
   "execution_count": 132,
   "id": "6c3ec690",
   "metadata": {
    "ExecuteTime": {
     "end_time": "2023-04-12T16:21:22.498253Z",
     "start_time": "2023-04-12T16:21:22.495306Z"
    }
   },
   "outputs": [
    {
     "name": "stdout",
     "output_type": "stream",
     "text": [
      "Set name BONK\n",
      "Set shares 4\n",
      "Set price 1.1\n"
     ]
    }
   ],
   "source": [
    "s = Stock(\"BONK\", 4, 1.1)"
   ]
  },
  {
   "cell_type": "markdown",
   "id": "0bd2f68b",
   "metadata": {},
   "source": [
    "### A new metaclass Annoyance? of what?"
   ]
  },
  {
   "cell_type": "markdown",
   "id": "5e5fc83c",
   "metadata": {},
   "source": [
    "#### Getting to it with a new metaclass\n"
   ]
  },
  {
   "cell_type": "code",
   "execution_count": 133,
   "id": "b6b8c680",
   "metadata": {
    "ExecuteTime": {
     "end_time": "2023-04-12T16:21:22.506531Z",
     "start_time": "2023-04-12T16:21:22.500835Z"
    }
   },
   "outputs": [],
   "source": [
    "from collections import OrderedDict\n",
    "\n",
    "class StructMeta(type):\n",
    "    @classmethod\n",
    "    def __prepare__(cls, name, bases):\n",
    "        \"\"\"\n",
    "        This is the class which returns the default empty dictionary\n",
    "        which will then be filled and treated as the `__dict__` for a\n",
    "        given class `cls`.\n",
    "        We're overriding this and returning an ordered dictionary instead.\n",
    "        This ensures that we keep the order of items for our arguments to\n",
    "        `__init__` of `cls`. With unordered dictionary, the order of those\n",
    "        arguments won't be preserved and *args might not have the intended\n",
    "        order.\n",
    "        \"\"\"\n",
    "        return OrderedDict()\n",
    "\n",
    "    def __new__(cls, name, bases, clsdict):\n",
    "        # This extracts the descriptor variable names\n",
    "        # we could also use `val.name` instead, because that's\n",
    "        # automatically obtained in descriptor with `__set_name__`\n",
    "        fields = [\n",
    "            key for key, val in clsdict.items()\n",
    "            if isinstance(val, Descriptor)\n",
    "        ]\n",
    "        # Make class object itself, with normal dictionary, not an ordered one\n",
    "        clsobj = super().__new__(cls, name, bases, dict(clsdict))\n",
    "        # Produce the signature directly from obtained fields, rather than hard-coding\n",
    "        # it in the class definition as `_fields`\n",
    "        sig = make_signature(fields)\n",
    "        setattr(clsobj, \"__signature__\", sig)\n",
    "        return clsobj"
   ]
  },
  {
   "cell_type": "code",
   "execution_count": 134,
   "id": "a57a4163",
   "metadata": {
    "ExecuteTime": {
     "end_time": "2023-04-12T16:21:22.513530Z",
     "start_time": "2023-04-12T16:21:22.509176Z"
    }
   },
   "outputs": [],
   "source": [
    "class Structure(metaclass=StructMeta):\n",
    "    \"\"\"\n",
    "    Automatically generate `__init__` which stores\n",
    "    passed arguments accordingly to the names in\n",
    "    `_fields`, which will automatically be used to generate\n",
    "    a `__signature__` in the `StructMeta` defining meta class.\n",
    "    \"\"\"\n",
    "    _fields = []\n",
    "\n",
    "    def __init__(self, *args, **kwargs):\n",
    "        bound = self.__signature__.bind(*args, **kwargs)\n",
    "        for name, val in bound.arguments.items():\n",
    "            setattr(self, name, val)"
   ]
  },
  {
   "cell_type": "code",
   "execution_count": 135,
   "id": "bc947152",
   "metadata": {
    "ExecuteTime": {
     "end_time": "2023-04-12T16:21:22.522049Z",
     "start_time": "2023-04-12T16:21:22.515896Z"
    },
    "code_folding": []
   },
   "outputs": [
    {
     "data": {
      "text/plain": [
       "'\\n\\n\\n\\nfrom collections import OrderedDict\\n# If you dont oknow OrderedDict get to it\\nclass StructMeta(type):\\n    # __Prepare is not in python 2...\\n    # When you execute the class body it executes it in a dictionary\\n    # It is mentioned that there are other hacks you can do to not use __prepare__\\n    @classmethod\\n    def __prepare__(cls, name, bases):\\n        # We will get rid of _fields by this trick\\n        return OrderedDict()\\n    \\n    \\n    def __new__(cls, name, bases, clsdict):\\n        # Not needing field because of this and keeping them ordered because of clsdict.items()\\n        # \\'key\\' of this fields list is the name used in class dictionary\\n        # We really look just for descriptors\\n        # we are not interested in methods\\n        fields = [key for key, val in clsdict.items() if isinstance(val, Descriptor)]\\n        \\n        # We can fill in the name field \\n        # because key above in fields is name used in calss dictionary\\n        for name in fields:\\n            clsdict[name].name = name\\n        \\n        # Make the class\\n        # with dict(clsdict) we need to create a proper dict for the class contents\\n        clsobj = super().__new__(cls, name, bases, dict(clsdict))\\n        \\n        # After makeing the class make the signatere\\n        sig = make_signature(fields)\\n        # \"drop\" it on the class\\n        setattr(clsobj, \\'__signature__\\', sig)\\n        return clsobj\\n'"
      ]
     },
     "execution_count": 135,
     "metadata": {},
     "output_type": "execute_result"
    }
   ],
   "source": [
    "\"\"\"\n",
    "\n",
    "\n",
    "\n",
    "from collections import OrderedDict\n",
    "# If you dont oknow OrderedDict get to it\n",
    "class StructMeta(type):\n",
    "    # __Prepare is not in python 2...\n",
    "    # When you execute the class body it executes it in a dictionary\n",
    "    # It is mentioned that there are other hacks you can do to not use __prepare__\n",
    "    @classmethod\n",
    "    def __prepare__(cls, name, bases):\n",
    "        # We will get rid of _fields by this trick\n",
    "        return OrderedDict()\n",
    "    \n",
    "    \n",
    "    def __new__(cls, name, bases, clsdict):\n",
    "        # Not needing field because of this and keeping them ordered because of clsdict.items()\n",
    "        # 'key' of this fields list is the name used in class dictionary\n",
    "        # We really look just for descriptors\n",
    "        # we are not interested in methods\n",
    "        fields = [key for key, val in clsdict.items() if isinstance(val, Descriptor)]\n",
    "        \n",
    "        # We can fill in the name field \n",
    "        # because key above in fields is name used in calss dictionary\n",
    "        for name in fields:\n",
    "            clsdict[name].name = name\n",
    "        \n",
    "        # Make the class\n",
    "        # with dict(clsdict) we need to create a proper dict for the class contents\n",
    "        clsobj = super().__new__(cls, name, bases, dict(clsdict))\n",
    "        \n",
    "        # After makeing the class make the signatere\n",
    "        sig = make_signature(fields)\n",
    "        # \"drop\" it on the class\n",
    "        setattr(clsobj, '__signature__', sig)\n",
    "        return clsobj\n",
    "\"\"\""
   ]
  },
  {
   "cell_type": "code",
   "execution_count": 136,
   "id": "32605d84",
   "metadata": {
    "ExecuteTime": {
     "end_time": "2023-04-12T16:21:22.528565Z",
     "start_time": "2023-04-12T16:21:22.524380Z"
    }
   },
   "outputs": [],
   "source": [
    "class Stock(Structure):\n",
    "    # So because of __prepare__ we dont need fields attr\n",
    "    # _fields = [\"name\", \"shares\", \"price\"]\n",
    "    # It will record the order of the attributes based on how they are listed\n",
    "    name = SizedRegexString(pat = '[A-Z]+$', maxlen = 5) # We got rid of 'name', because of 'keys'\n",
    "    shares = PositiveInteger() # # We got rid of PositiveInteger('shares'), because of 'keys'\n",
    "    price = Float()"
   ]
  },
  {
   "cell_type": "code",
   "execution_count": 137,
   "id": "17d3600f",
   "metadata": {
    "ExecuteTime": {
     "end_time": "2023-04-12T16:21:22.535110Z",
     "start_time": "2023-04-12T16:21:22.530913Z"
    }
   },
   "outputs": [
    {
     "name": "stdout",
     "output_type": "stream",
     "text": [
      "Set None BARK\n",
      "Set None 3\n",
      "Set None 12.1\n"
     ]
    }
   ],
   "source": [
    "s = Stock(\"BARK\", 3, 12.1)"
   ]
  },
  {
   "cell_type": "markdown",
   "id": "75cda998",
   "metadata": {
    "ExecuteTime": {
     "end_time": "2023-04-11T01:50:08.471609Z",
     "start_time": "2023-04-11T01:50:08.465908Z"
    },
    "heading_collapsed": true
   },
   "source": [
    "#### Duplicate Definitions"
   ]
  },
  {
   "cell_type": "code",
   "execution_count": 138,
   "id": "c9a4defc",
   "metadata": {
    "ExecuteTime": {
     "end_time": "2023-04-12T16:21:22.542364Z",
     "start_time": "2023-04-12T16:21:22.537483Z"
    },
    "hidden": true
   },
   "outputs": [],
   "source": [
    "class NoDupOrderedDict(OrderedDict):\n",
    "    def __setitem__(self, key, value):\n",
    "        if key in self:\n",
    "            raise NameError('%s already defined' % key)\n",
    "        super().__setitem__(key, value)\n",
    "# And later use this on place of OrderedDict"
   ]
  },
  {
   "cell_type": "code",
   "execution_count": 139,
   "id": "c20d0f24",
   "metadata": {
    "ExecuteTime": {
     "end_time": "2023-04-12T16:21:22.550711Z",
     "start_time": "2023-04-12T16:21:22.544868Z"
    },
    "hidden": true
   },
   "outputs": [],
   "source": [
    "class StructMeta(type):\n",
    "    @classmethod\n",
    "    def __prepare__(cls, name, bases):\n",
    "        return NoDupOrderedDict()\n",
    "    \n",
    "    \n",
    "    def __new__(cls, name, bases, clsdict):\n",
    "        fields = [\n",
    "            key for key, val in clsdict.items()\n",
    "            if isinstance(val, Descriptor)\n",
    "        ]\n",
    "        clsobj = super().__new__(cls, name, bases, dict(clsdict))\n",
    "        sig = make_signature(fields)\n",
    "        setattr(clsobj, \"__signature__\", sig)\n",
    "        return clsobj"
   ]
  },
  {
   "cell_type": "code",
   "execution_count": 140,
   "id": "00e7efbc",
   "metadata": {
    "ExecuteTime": {
     "end_time": "2023-04-12T16:21:22.560540Z",
     "start_time": "2023-04-12T16:21:22.556370Z"
    },
    "hidden": true
   },
   "outputs": [],
   "source": [
    "class Structure(metaclass = StructMeta):\n",
    "    _fields = []\n",
    "    def __init__(self, *args, **kwargs):\n",
    "        bound = self.__signature__.bind(*args, **kwargs)\n",
    "        for name, val in bound.arguments.items():\n",
    "            setattr(self, name, val)"
   ]
  },
  {
   "cell_type": "code",
   "execution_count": 141,
   "id": "15659d4d",
   "metadata": {
    "ExecuteTime": {
     "end_time": "2023-04-12T16:21:22.567716Z",
     "start_time": "2023-04-12T16:21:22.563124Z"
    },
    "hidden": true
   },
   "outputs": [
    {
     "name": "stdout",
     "output_type": "stream",
     "text": [
      "shares already defined\n"
     ]
    }
   ],
   "source": [
    "try: \n",
    "    class Stock(Structure):\n",
    "        name = String()\n",
    "        shares = PositiveInteger()\n",
    "        price = Float()\n",
    "        shares = PositiveInteger()\n",
    "except NameError as R:\n",
    "    print(R)"
   ]
  },
  {
   "cell_type": "markdown",
   "id": "8a8a0778",
   "metadata": {
    "ExecuteTime": {
     "end_time": "2023-04-11T01:50:50.722946Z",
     "start_time": "2023-04-11T01:50:50.704316Z"
    },
    "hidden": true
   },
   "source": [
    "- You can do multiple dispatch on method"
   ]
  },
  {
   "cell_type": "markdown",
   "id": "adeecf0d",
   "metadata": {},
   "source": [
    "### Performance in the bin with all these stuff?"
   ]
  },
  {
   "cell_type": "markdown",
   "id": "6d352aba",
   "metadata": {},
   "source": [
    "- around 60-90 x hit on creation\n",
    "    - mro chaseing...\n",
    "    - the actual checking is minor part to it probably\n",
    "- attribute lookup is uneffected (cause we did not implement __ get__ :P\n",
    "- several bottlenecks\n",
    "    - Signature enforcement\n",
    "    - Multipy inheritacne / super in descriptor"
   ]
  },
  {
   "cell_type": "markdown",
   "id": "168ffcfb",
   "metadata": {},
   "source": [
    "#### Code generation"
   ]
  },
  {
   "cell_type": "code",
   "execution_count": 142,
   "id": "7f34e00b",
   "metadata": {
    "ExecuteTime": {
     "end_time": "2023-04-12T16:21:22.574323Z",
     "start_time": "2023-04-12T16:21:22.570521Z"
    }
   },
   "outputs": [],
   "source": [
    "def _make_init(fields):\n",
    "    \"\"\"Generate full python code of an __init__ function\"\"\"\n",
    "    code = f\"def __init__(self, {', '.join(fields)}):\\n\"\n",
    "\n",
    "    for name in fields:\n",
    "        code += f\"   self.{name} = {name}\\n\"\n",
    "\n",
    "    return code"
   ]
  },
  {
   "cell_type": "code",
   "execution_count": 143,
   "id": "9fee233f",
   "metadata": {
    "ExecuteTime": {
     "end_time": "2023-04-12T16:21:22.581605Z",
     "start_time": "2023-04-12T16:21:22.577183Z"
    }
   },
   "outputs": [],
   "source": [
    "def _make_setter(dcls):\n",
    "    \"\"\"\n",
    "    Takes descriptor class and produces the code for `__set__` function,\n",
    "    to avoid super calls and slowdows from inheritance.\n",
    "    It walks the method resolution order and collects the code from `set_code` function, \n",
    "    which it than concatenates to make a ne `__set__` method\n",
    "    \"\"\"\n",
    "    code = \"def __set__(self, instance, value):\\n\"\n",
    "    for d in dcls.__mro__:\n",
    "        if 'set_code' in d.__dict__:\n",
    "            for line in d.set_code():\n",
    "                code += f\"   {line}\\n\"\n",
    "\n",
    "    return code"
   ]
  },
  {
   "cell_type": "code",
   "execution_count": 144,
   "id": "31c57a31",
   "metadata": {
    "ExecuteTime": {
     "end_time": "2023-04-12T16:21:22.589951Z",
     "start_time": "2023-04-12T16:21:22.584364Z"
    }
   },
   "outputs": [],
   "source": [
    "class DescriptorMeta(type):\n",
    "    \"\"\"\n",
    "    We need to use a metaclass for Descriptors, in order to automatically\n",
    "    construct the `__set__` method for them using the code fragments\n",
    "    from `set_code` method.\n",
    "    \"\"\"\n",
    "    def __init__(self, clsname, bases, clsdict):\n",
    "        \"\"\"\n",
    "        We're using `__init__` instead of `__new__`, because the\n",
    "        generation of setter code using `_make_setter` requires\n",
    "        us to have the MRO already estabolished, which is done\n",
    "        when the class is being created in `__new__`, which has\n",
    "        already happened in `__new__` so we can use `__init__`.\n",
    "        \"\"\"\n",
    "        super().__init__(clsname, bases, clsdict)\n",
    "        # In case somebody tries to implement the classical __set__\n",
    "        # method, disallow it, it would be overridden anyway and the\n",
    "        # use wouldn't know why, this way he'll be informed what's wrong\n",
    "        if '__set__' in clsdict:\n",
    "            raise TypeError(\"Use set_code(), not __set__()\")\n",
    "        # Make the `__set__` code\n",
    "        code = _make_setter(self)\n",
    "        exec(code, globals(), clsdict)\n",
    "        # The actual __dict__ is altered and it becomes a mappingproxy\n",
    "        # rather than normal dictionary and it will be read-only\n",
    "        # the received `clsdict` is not necessarely the one that will be\n",
    "        # used for the class itself, so we need to define the `__set__`\n",
    "        # using setattr directly onto the class (`self`)\n",
    "        setattr(self, \"__set__\", clsdict[\"__set__\"])"
   ]
  },
  {
   "cell_type": "code",
   "execution_count": 145,
   "id": "db90342b",
   "metadata": {
    "ExecuteTime": {
     "end_time": "2023-04-12T16:21:22.597896Z",
     "start_time": "2023-04-12T16:21:22.592337Z"
    }
   },
   "outputs": [],
   "source": [
    "class Descriptor(metaclass=DescriptorMeta):\n",
    "    \"\"\"\n",
    "    This is a default descriptor implementation, it doesn't really do much\n",
    "    but it provides us with a basis for all other descriptors, which can\n",
    "    then override these methods (most notable setter, to impose some restrictions).\n",
    "    \"\"\"\n",
    "\n",
    "    def __set_name__(self, owner_cls, name):\n",
    "        \"\"\"\n",
    "        This method was implemented in python 3.6 (PEP 487), for any older versions\n",
    "        you'll have to use meta-classes, to handle this automatically, or\n",
    "        simply require the user to pass in the `name` in `__init__`.\n",
    "        This implementation is shown in `extra_manual_name.py` file\n",
    "        \"\"\"\n",
    "        self.name = name\n",
    "\n",
    "    def __get__(self, instance, owner_cls):\n",
    "        if instance is None:\n",
    "            return self\n",
    "        return instance.__dict__.get(self.name)\n",
    "\n",
    "    @staticmethod\n",
    "    def set_code():\n",
    "        return [\"instance.__dict__[self.name] = value\"]\n",
    "\n",
    "    def __delete__(self, instance):\n",
    "        del instance.__dict__[self.name]"
   ]
  },
  {
   "cell_type": "code",
   "execution_count": 146,
   "id": "322ad2f2",
   "metadata": {
    "ExecuteTime": {
     "end_time": "2023-04-12T16:21:22.604413Z",
     "start_time": "2023-04-12T16:21:22.600348Z"
    }
   },
   "outputs": [],
   "source": [
    "class Typed(Descriptor):\n",
    "    \"\"\"This is a general descriptor for enforcing types, it's expected to be subclassed.\"\"\"\n",
    "    ty = object  # Expected type\n",
    "\n",
    "    @staticmethod\n",
    "    def set_code():\n",
    "        return [\n",
    "            \"if not isinstance(value, self.ty):\",\n",
    "            \"   raise TypeError(f'Expected {self.ty.__name__}, got {type(value).__name__}.')\",\n",
    "        ]\n"
   ]
  },
  {
   "cell_type": "code",
   "execution_count": 147,
   "id": "b742decb",
   "metadata": {
    "ExecuteTime": {
     "end_time": "2023-04-12T16:21:22.612004Z",
     "start_time": "2023-04-12T16:21:22.605947Z"
    }
   },
   "outputs": [],
   "source": [
    "class Integer(Typed):\n",
    "    ty = int\n",
    "\n",
    "\n",
    "class Float(Typed):\n",
    "    ty = float\n",
    "\n",
    "    @staticmethod\n",
    "    def set_code():\n",
    "        return [\n",
    "            \"if isinstance(value, int):\",\n",
    "            \"   value = float(value)\"\n",
    "        ]\n",
    "\n",
    "\n",
    "class String(Typed):\n",
    "    ty = str\n",
    "\n",
    "\n",
    "class Positive(Descriptor):\n",
    "    @staticmethod\n",
    "    def set_code():\n",
    "        return [\n",
    "            \"if value < 0:\",\n",
    "            \"   raise ValueError('Value must be positive (>= 0)')\"\n",
    "        ]\n",
    "\n",
    "\n",
    "class PositiveInteger(Integer, Positive):\n",
    "    pass\n",
    "\n",
    "\n",
    "class PositiveFloat(Float, Positive):\n",
    "    pass\n",
    "\n",
    "\n",
    "class Regex(String):\n",
    "    def __init__(self, *args, pattern, **kwargs):\n",
    "        self.pattern = re.compile(pattern)\n",
    "        return super().__init__(*args, **kwargs)\n",
    "\n",
    "    @staticmethod\n",
    "    def set_code():\n",
    "        return [\n",
    "            \"if not self.pattern.match(value):\",\n",
    "            \"   raise ValueError(\\\"String doesn't match the expected pattern\\\")\"\n",
    "        ]\n",
    "\n",
    "\n",
    "class Sized(Descriptor):\n",
    "    def __init__(self, *args, maxlen, **kwargs):\n",
    "        self.maxlen = maxlen\n",
    "        return super().__init__(*args, **kwargs)\n",
    "\n",
    "    @staticmethod\n",
    "    def set_code():\n",
    "        return [\n",
    "            \"if len(value) > self.maxlen:\",\n",
    "            \"   raise ValueError(f'Maximum expected length is {self.maxlen}, got {len(value)}')\"\n",
    "        ]\n",
    "\n",
    "\n",
    "class SizedRegex(Regex, Sized):\n",
    "    pass"
   ]
  },
  {
   "cell_type": "code",
   "execution_count": 148,
   "id": "8250e694",
   "metadata": {
    "ExecuteTime": {
     "end_time": "2023-04-12T16:21:22.617675Z",
     "start_time": "2023-04-12T16:21:22.613683Z"
    }
   },
   "outputs": [],
   "source": [
    "class StructMeta(type):\n",
    "    @classmethod\n",
    "    def __prepare__(cls, name, bases):\n",
    "        return NoDupOrderedDict()\n",
    "    \n",
    "    \n",
    "    def __new__(cls, name, bases, clsdict):\n",
    "        fields = [\n",
    "            key for key, val in clsdict.items()\n",
    "            if isinstance(val, Descriptor)\n",
    "        ]\n",
    "        if fields:\n",
    "            init_code = _make_init(fields)\n",
    "            exec(init_code, globals(), clsdict)# Do we need globals() here? or not?\n",
    "            \n",
    "        clsobj = super().__new__(cls, name, bases, dict(clsdict))\n",
    "        # because we are doing an init we can get rid of signature thing\n",
    "        # sig = make_signature(fields)\n",
    "        # setattr(clsobj, \"__signature__\", sig)\n",
    "        return clsobj"
   ]
  },
  {
   "cell_type": "code",
   "execution_count": 149,
   "id": "973158e8",
   "metadata": {
    "ExecuteTime": {
     "end_time": "2023-04-12T16:21:22.626102Z",
     "start_time": "2023-04-12T16:21:22.620237Z"
    }
   },
   "outputs": [],
   "source": [
    "class Structure(metaclass=StructMeta):\n",
    "    \"\"\"\n",
    "    Automatically generate `__init__` which stores\n",
    "    passed arguments accordingly to the names in\n",
    "    `_fields`, which will automatically be used to generate\n",
    "    a `__signature__` in the `StructMeta` defining meta class.\n",
    "    \"\"\"\n",
    "    _fields = []"
   ]
  },
  {
   "cell_type": "code",
   "execution_count": 150,
   "id": "ed086be3",
   "metadata": {
    "ExecuteTime": {
     "end_time": "2023-04-12T16:21:22.632928Z",
     "start_time": "2023-04-12T16:21:22.629694Z"
    }
   },
   "outputs": [],
   "source": [
    "class Stock(Structure):\n",
    "    name = SizedRegex(maxlen=8, pattern=r\"[A-Z]+$\")\n",
    "    shares = PositiveInteger()\n",
    "    price = PositiveFloat()"
   ]
  },
  {
   "cell_type": "code",
   "execution_count": 151,
   "id": "62a239c6",
   "metadata": {
    "ExecuteTime": {
     "end_time": "2023-04-12T16:21:22.637741Z",
     "start_time": "2023-04-12T16:21:22.635289Z"
    }
   },
   "outputs": [],
   "source": [
    "s = Stock(\"ACCM\",43, 17.1)\n",
    "#https://imgs.xkcd.com/comics/ballmer_peak.png"
   ]
  },
  {
   "cell_type": "code",
   "execution_count": 152,
   "id": "49a4d40f",
   "metadata": {
    "ExecuteTime": {
     "end_time": "2023-04-12T16:21:22.642487Z",
     "start_time": "2023-04-12T16:21:22.639403Z"
    }
   },
   "outputs": [
    {
     "name": "stdout",
     "output_type": "stream",
     "text": [
      "ACCM\n"
     ]
    }
   ],
   "source": [
    "print(s.name)"
   ]
  },
  {
   "cell_type": "markdown",
   "id": "81ac135b",
   "metadata": {},
   "source": [
    "### Esoteric stuff from xml"
   ]
  },
  {
   "cell_type": "code",
   "execution_count": 153,
   "id": "7bd2c9fd",
   "metadata": {
    "ExecuteTime": {
     "end_time": "2023-04-12T16:21:22.651582Z",
     "start_time": "2023-04-12T16:21:22.645776Z"
    }
   },
   "outputs": [],
   "source": [
    "from xml.etree.ElementTree import parse"
   ]
  },
  {
   "cell_type": "code",
   "execution_count": 155,
   "id": "b85cb293",
   "metadata": {
    "ExecuteTime": {
     "end_time": "2023-04-12T16:21:47.181596Z",
     "start_time": "2023-04-12T16:21:47.173036Z"
    },
    "code_folding": []
   },
   "outputs": [],
   "source": [
    "def _struct_to_class(structure):\n",
    "    name = structure.get(\"name\")\n",
    "    code = f\"class {name}(Structure):\\n\"\n",
    "    for field in structure.findall(\"field\"):\n",
    "        descriptor_type = field.get(\"type\")\n",
    "        options = [\n",
    "            f\"{key} = {val}\" for key, val in field.items()\n",
    "            if key != \"type\"\n",
    "        ]\n",
    "        name = field.text.strip()\n",
    "        code += f\"   {name} = {descriptor_type}({', '.join(options)})\\n\"\n",
    "    return code\n",
    "\n",
    "def _xml_to_code(filename):\n",
    "    doc = parse(filename)\n",
    "    code = \"\"\n",
    "    for structure in doc.findall(\"structure\"):\n",
    "        clscode = _struct_to_class(structure)\n",
    "        code += clscode\n",
    "    return code\n",
    "\n",
    "\n",
    "code = _xml_to_code(\"classes.xml\")\n",
    "exec(code)"
   ]
  },
  {
   "cell_type": "code",
   "execution_count": 156,
   "id": "10d200cf",
   "metadata": {
    "ExecuteTime": {
     "end_time": "2023-04-12T16:21:48.104919Z",
     "start_time": "2023-04-12T16:21:48.100245Z"
    }
   },
   "outputs": [
    {
     "name": "stdout",
     "output_type": "stream",
     "text": [
      "class Stock(Structure):\n",
      "   name = SizedRegex(maxlen = 8, pattern = '[A-Z]+$')\n",
      "   shares = PositiveInteger()\n",
      "   price = PositiveFloat()\n",
      "class Address(Structure):\n",
      "   hostname = String()\n",
      "   port = Integer()\n",
      "\n"
     ]
    }
   ],
   "source": [
    "print(code)"
   ]
  },
  {
   "cell_type": "code",
   "execution_count": 157,
   "id": "c8927499",
   "metadata": {
    "ExecuteTime": {
     "end_time": "2023-04-12T16:21:48.969328Z",
     "start_time": "2023-04-12T16:21:48.966208Z"
    }
   },
   "outputs": [],
   "source": [
    "a = Address(\"Budapest\", 112)"
   ]
  },
  {
   "cell_type": "code",
   "execution_count": 158,
   "id": "5dc5d406",
   "metadata": {
    "ExecuteTime": {
     "end_time": "2023-04-12T16:21:51.696970Z",
     "start_time": "2023-04-12T16:21:51.691980Z"
    }
   },
   "outputs": [
    {
     "name": "stdout",
     "output_type": "stream",
     "text": [
      "Budapest\n"
     ]
    }
   ],
   "source": [
    "print(a.hostname)"
   ]
  },
  {
   "cell_type": "markdown",
   "id": "e8883c55",
   "metadata": {},
   "source": [
    "## Moveing On"
   ]
  },
  {
   "cell_type": "code",
   "execution_count": null,
   "id": "514aa43e",
   "metadata": {},
   "outputs": [],
   "source": []
  },
  {
   "cell_type": "code",
   "execution_count": null,
   "id": "048bc3b4",
   "metadata": {},
   "outputs": [],
   "source": []
  }
 ],
 "metadata": {
  "kernelspec": {
   "display_name": "Python (py37)",
   "language": "python",
   "name": "py37"
  },
  "language_info": {
   "codemirror_mode": {
    "name": "ipython",
    "version": 3
   },
   "file_extension": ".py",
   "mimetype": "text/x-python",
   "name": "python",
   "nbconvert_exporter": "python",
   "pygments_lexer": "ipython3",
   "version": "3.7.12"
  },
  "toc": {
   "base_numbering": 1,
   "nav_menu": {},
   "number_sections": false,
   "sideBar": true,
   "skip_h1_title": false,
   "title_cell": "Table of Contents",
   "title_sidebar": "Contents",
   "toc_cell": false,
   "toc_position": {},
   "toc_section_display": true,
   "toc_window_display": false
  },
  "varInspector": {
   "cols": {
    "lenName": 16,
    "lenType": 16,
    "lenVar": 40
   },
   "kernels_config": {
    "python": {
     "delete_cmd_postfix": "",
     "delete_cmd_prefix": "del ",
     "library": "var_list.py",
     "varRefreshCmd": "print(var_dic_list())"
    },
    "r": {
     "delete_cmd_postfix": ") ",
     "delete_cmd_prefix": "rm(",
     "library": "var_list.r",
     "varRefreshCmd": "cat(var_dic_list()) "
    }
   },
   "types_to_exclude": [
    "module",
    "function",
    "builtin_function_or_method",
    "instance",
    "_Feature"
   ],
   "window_display": false
  }
 },
 "nbformat": 4,
 "nbformat_minor": 5
}
